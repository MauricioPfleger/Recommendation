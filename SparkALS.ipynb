{
  "cells": [
    {
      "cell_type": "markdown",
      "metadata": {
        "id": "tu08wMmn7DdY"
      },
      "source": [
        "# 1 - Install"
      ]
    },
    {
      "cell_type": "code",
      "execution_count": null,
      "metadata": {
        "id": "q1jhyuUHQ0wg"
      },
      "outputs": [],
      "source": [
        "!pip install pyspark\n",
        "!pip install recommenders"
      ]
    },
    {
      "cell_type": "markdown",
      "metadata": {
        "id": "pYyKtVi17JV6"
      },
      "source": [
        "# 2 - Imports"
      ]
    },
    {
      "cell_type": "code",
      "execution_count": 2,
      "metadata": {
        "id": "t6NP_xTwIvpg"
      },
      "outputs": [],
      "source": [
        "import warnings\n",
        "warnings.simplefilter(action='ignore', category=FutureWarning)\n",
        "\n",
        "from google.colab import drive\n",
        "\n",
        "from pyspark.sql import SparkSession\n",
        "from pyspark.sql.types import StructType, StructField, IntegerType\n",
        "from pyspark.sql.functions import explode, col\n",
        "\n",
        "from pyspark.ml.recommendation import ALS\n",
        "\n",
        "from recommenders.utils.timer import Timer\n",
        "from recommenders.evaluation.spark_evaluation import SparkRankingEvaluation"
      ]
    },
    {
      "cell_type": "markdown",
      "metadata": {
        "id": "-_JwMxL_iTfH"
      },
      "source": [
        "# 3 - Google Drive"
      ]
    },
    {
      "cell_type": "code",
      "execution_count": null,
      "metadata": {
        "id": "2flX7jylQ2cr"
      },
      "outputs": [],
      "source": [
        "drive.mount(r'/content/drive/')\n",
        "!ls \"/content/drive/MyDrive/Dataset/\""
      ]
    },
    {
      "cell_type": "markdown",
      "metadata": {
        "id": "fPSl_7bxiQVt"
      },
      "source": [
        "# 4 - Sessão Spark"
      ]
    },
    {
      "cell_type": "code",
      "execution_count": 4,
      "metadata": {
        "id": "YShFagwbb_sk"
      },
      "outputs": [],
      "source": [
        "spark = SparkSession.builder.appName('SMDI').getOrCreate()"
      ]
    },
    {
      "cell_type": "markdown",
      "metadata": {
        "id": "2cF-Vs-AiLyK"
      },
      "source": [
        " # 5 - Preliminaries"
      ]
    },
    {
      "cell_type": "code",
      "execution_count": 5,
      "metadata": {
        "id": "RAFzcYFneG5g"
      },
      "outputs": [],
      "source": [
        "# Contruindo o schema da tabela fato.\n",
        "COL_USER = \"user_id\"\n",
        "COL_ITEM = \"item_id\"\n",
        "COL_RATING = \"rating\"\n",
        "COL_TIMESTAMP = \"timestamp\"\n",
        "COL_PREDICTION = \"prediction\"\n",
        "TOP_K = 10\n",
        "\n",
        "schema = StructType(\n",
        "    [\n",
        "      StructField(COL_USER, IntegerType(), True),\n",
        "      StructField(COL_ITEM, IntegerType( ), True),\n",
        "      StructField(COL_RATING, IntegerType(), True)\n",
        "      # StructField(COL_TIMESTAMP, IntegerType(), True)\n",
        "    ]\n",
        "  )"
      ]
    },
    {
      "cell_type": "markdown",
      "metadata": {
        "id": "uaFC79us89P-"
      },
      "source": [
        "# 6 - Dataset"
      ]
    },
    {
      "cell_type": "code",
      "execution_count": 8,
      "metadata": {
        "id": "qxhmh540hNQP"
      },
      "outputs": [],
      "source": [
        "# Dividindo a base entre treino e teste\n",
        "train = spark.read.csv(\"/content/drive/MyDrive/Dataset/SMDI-500E_train.csv\", schema=schema)\n",
        "test = spark.read.csv(\"/content/drive/MyDrive/Dataset/SMDI-500E_test.csv\", schema=schema)"
      ]
    },
    {
      "cell_type": "markdown",
      "metadata": {
        "id": "6LHT4WRa9UdT"
      },
      "source": [
        "# 7 - Treinando"
      ]
    },
    {
      "cell_type": "code",
      "execution_count": 12,
      "metadata": {
        "colab": {
          "base_uri": "https://localhost:8080/"
        },
        "id": "AWY3OlGddjN9",
        "outputId": "8570d11b-3849-442d-f738-4c88bcf84f11"
      },
      "outputs": [
        {
          "name": "stdout",
          "output_type": "stream",
          "text": [
            "Took 146.716975069 seconds for training.\n"
          ]
        }
      ],
      "source": [
        "# Instanciado o modelo de recomendação ALS\n",
        "als = ALS(\n",
        "        userCol=COL_USER,\n",
        "        itemCol=COL_ITEM,\n",
        "        ratingCol=COL_RATING,\n",
        "        coldStartStrategy=\"drop\",\n",
        "        regParam=0.1,\n",
        "        maxIter=15,\n",
        "        rank=128,\n",
        "        seed=2023,\n",
        "        nonnegative=True\n",
        ")\n",
        "\n",
        "with Timer() as train_time:\n",
        "    model = als.fit(train)\n",
        "print(\"Took {} seconds for training.\".format(train_time.interval))"
      ]
    },
    {
      "cell_type": "markdown",
      "metadata": {
        "id": "IWCj7fFXHgES"
      },
      "source": [
        "# 8 - Avaliando"
      ]
    },
    {
      "cell_type": "code",
      "execution_count": 13,
      "metadata": {
        "id": "kM0T7_ucIVMC"
      },
      "outputs": [],
      "source": [
        "# Obtenha a junção cruzada de todos os pares de item de usuário e pontue-os.\n",
        "users = train.select(COL_USER).distinct()\n",
        "items = train.select(COL_ITEM).distinct()\n",
        "user_item = users.crossJoin(items)\n",
        "dfs_pred = model.transform(user_item)\n",
        "\n",
        "# Remova itens vistos pelo treinamento, ou seja, esta ficando só com as cobinações de usuário e item que não foram impostas ao treinamento do modelo.\n",
        "from pyspark.sql.functions import col\n",
        "dfs_pred_exclude_train_old = dfs_pred.alias(\"pred\").join(train.alias(\"train\"), (col(f\"pred.{COL_USER}\") == col(f\"train.{COL_USER}\")) & (col(f\"pred.{COL_ITEM}\") == col(f\"train.{COL_ITEM}\")), how='outer' )\n",
        "dfs_pred_exclude_train = dfs_pred.alias(\"pred\").join(train.alias(\"train\"), [COL_USER, COL_ITEM], how=\"outer\")\n",
        "\n",
        "top_all = dfs_pred_exclude_train.filter(dfs_pred_exclude_train[f\"train.{COL_RATING}\"].isNull()).select('pred.' + COL_USER, 'pred.' + COL_ITEM, 'pred.' + \"prediction\")"
      ]
    },
    {
      "cell_type": "code",
      "execution_count": 14,
      "metadata": {
        "colab": {
          "base_uri": "https://localhost:8080/"
        },
        "id": "NOevRriBpldW",
        "outputId": "4b58aba6-c956-450b-ccb8-6467a2e9d0e5"
      },
      "outputs": [
        {
          "name": "stdout",
          "output_type": "stream",
          "text": [
            "Model:\tALS\n",
            "Top K:\t10\n",
            "MAP:\t0.000257\n",
            "NDCG:\t0.002032\n",
            "Precision@K:\t0.002195\n",
            "Recall@K:\t0.001184\n"
          ]
        }
      ],
      "source": [
        "rank_eval = SparkRankingEvaluation(\n",
        "    test, #observado\n",
        "    top_all, #predito\n",
        "    k = TOP_K, \n",
        "    col_user=COL_USER, \n",
        "    col_item=COL_ITEM,\n",
        "    col_rating=COL_RATING,\n",
        "    col_prediction=\"prediction\",\n",
        "    relevancy_method=\"top_k\"\n",
        ")\n",
        "\n",
        "print(\n",
        "    \"Model:\\tALS\",\n",
        "    \"Top K:\\t%d\" % rank_eval.k,\n",
        "    \"MAP:\\t%f\" % rank_eval.map_at_k(), \n",
        "    \"NDCG:\\t%f\" % rank_eval.ndcg_at_k(),\n",
        "    \"Precision@K:\\t%f\" % rank_eval.precision_at_k(),\n",
        "    \"Recall@K:\\t%f\" % rank_eval.recall_at_k(), \n",
        "    sep='\\n'\n",
        ")\n",
        "\n"
      ]
    },
    {
      "attachments": {},
      "cell_type": "markdown",
      "metadata": {
        "id": "-Uif9l79ZXux"
      },
      "source": [
        "# 8.1 - Teste usuário 17"
      ]
    },
    {
      "cell_type": "code",
      "execution_count": 16,
      "metadata": {
        "id": "P4de26wCxlPa"
      },
      "outputs": [],
      "source": [
        "user17 = train.filter(train.user_id == 17).select(train.user_id)"
      ]
    },
    {
      "cell_type": "code",
      "execution_count": 17,
      "metadata": {
        "colab": {
          "base_uri": "https://localhost:8080/"
        },
        "id": "c05WzcD1Za1H",
        "outputId": "761a1f30-d9b2-4c61-844d-29a349fee1bb"
      },
      "outputs": [
        {
          "name": "stdout",
          "output_type": "stream",
          "text": [
            "+-------+-------+----------+\n",
            "|user_id|item_id|    rating|\n",
            "+-------+-------+----------+\n",
            "|     17|   5279| 0.8998934|\n",
            "|     17|    108| 0.8998916|\n",
            "|     17|   3408|0.89989156|\n",
            "|     17|     80|0.89989156|\n",
            "|     17|   5100|0.89989156|\n",
            "|     17|   5116|0.89989156|\n",
            "|     17|     60| 0.8998915|\n",
            "|     17|     20| 0.8998915|\n",
            "|     17|     30| 0.8998915|\n",
            "|     17|     40| 0.8998915|\n",
            "+-------+-------+----------+\n",
            "\n"
          ]
        }
      ],
      "source": [
        "(model.recommendForUserSubset(dataset=user17, numItems=10)\n",
        "    .withColumn(\"rec_exp\", explode(\"recommendations\"))\n",
        "    .select('user_id', col(\"rec_exp.item_id\"), col(\"rec_exp.rating\")).show())"
      ]
    }
  ],
  "metadata": {
    "colab": {
      "provenance": [],
      "toc_visible": true
    },
    "gpuClass": "standard",
    "kernelspec": {
      "display_name": "Python 3",
      "name": "python3"
    },
    "language_info": {
      "name": "python"
    }
  },
  "nbformat": 4,
  "nbformat_minor": 0
}
