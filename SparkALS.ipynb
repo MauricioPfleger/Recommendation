{
  "cells": [
    {
      "cell_type": "markdown",
      "source": [
        "# 1 - Install"
      ],
      "metadata": {
        "id": "tu08wMmn7DdY"
      }
    },
    {
      "cell_type": "code",
      "execution_count": null,
      "metadata": {
        "id": "q1jhyuUHQ0wg"
      },
      "outputs": [],
      "source": [
        "!pip install pyspark\n",
        "!pip install recommenders"
      ]
    },
    {
      "cell_type": "markdown",
      "source": [
        "# 2 - Imports"
      ],
      "metadata": {
        "id": "pYyKtVi17JV6"
      }
    },
    {
      "cell_type": "code",
      "execution_count": 2,
      "metadata": {
        "id": "t6NP_xTwIvpg"
      },
      "outputs": [],
      "source": [
        "import warnings\n",
        "warnings.simplefilter(action='ignore', category=FutureWarning)\n",
        "\n",
        "from google.colab import drive\n",
        "\n",
        "from pyspark.sql import SparkSession\n",
        "from pyspark.sql.types import StructType, StructField, IntegerType, FloatType\n",
        "from pyspark.sql.functions import explode, col\n",
        "\n",
        "from pyspark.ml.recommendation import ALS\n",
        "\n",
        "from recommenders.utils.timer import Timer\n",
        "from recommenders.evaluation.spark_evaluation import SparkRankingEvaluation, SparkRatingEvaluation"
      ]
    },
    {
      "cell_type": "markdown",
      "metadata": {
        "id": "-_JwMxL_iTfH"
      },
      "source": [
        "# 3 - Google Drive"
      ]
    },
    {
      "cell_type": "code",
      "execution_count": null,
      "metadata": {
        "id": "2flX7jylQ2cr"
      },
      "outputs": [],
      "source": [
        "drive.mount(r'/content/drive/')\n",
        "!ls \"/content/drive/MyDrive/Dataset/\""
      ]
    },
    {
      "cell_type": "markdown",
      "metadata": {
        "id": "fPSl_7bxiQVt"
      },
      "source": [
        "# 4 - Sessão Spark"
      ]
    },
    {
      "cell_type": "code",
      "execution_count": 4,
      "metadata": {
        "id": "YShFagwbb_sk"
      },
      "outputs": [],
      "source": [
        "spark = SparkSession.builder.appName('SMDI').getOrCreate()"
      ]
    },
    {
      "cell_type": "markdown",
      "metadata": {
        "id": "2cF-Vs-AiLyK"
      },
      "source": [
        " # 5 - Preliminaries"
      ]
    },
    {
      "cell_type": "code",
      "execution_count": 5,
      "metadata": {
        "id": "RAFzcYFneG5g"
      },
      "outputs": [],
      "source": [
        "# Contruindo o schema da tabela fato.\n",
        "COL_USER = \"user_id\"\n",
        "COL_ITEM = \"item_id\"\n",
        "COL_RATING = \"rating\"\n",
        "COL_TIMESTAMP = \"timestamp\"\n",
        "COL_PREDICTION = \"prediction\"\n",
        "TOP_K = 10\n",
        "\n",
        "schema = StructType(\n",
        "    [\n",
        "      StructField(COL_USER, IntegerType(), True),\n",
        "      StructField(COL_ITEM, IntegerType( ), True),\n",
        "      StructField(COL_RATING, IntegerType(), True)\n",
        "      # StructField(COL_TIMESTAMP, IntegerType(), True)\n",
        "    ]\n",
        "  )"
      ]
    },
    {
      "cell_type": "markdown",
      "source": [
        "# 6 - Dataset"
      ],
      "metadata": {
        "id": "uaFC79us89P-"
      }
    },
    {
      "cell_type": "code",
      "execution_count": 7,
      "metadata": {
        "id": "BwO28PKKgL8C"
      },
      "outputs": [],
      "source": [
        "# Carregando a tabela de dimensão dos itens\n",
        "SMDI_items = spark.read.csv(\"/content/drive/MyDrive/Dataset/SMDI_items.csv\", inferSchema=True, header=True)\n",
        "\n",
        "# Carregando a tabela de dimensão dos usuários\n",
        "SMDI_users = spark.read.csv(\"/content/drive/MyDrive/Dataset/SMDI_users.csv\", inferSchema=True, header=True)"
      ]
    },
    {
      "cell_type": "code",
      "execution_count": 8,
      "metadata": {
        "id": "qxhmh540hNQP"
      },
      "outputs": [],
      "source": [
        "# Dividindo a base entre treino e teste\n",
        "train = spark.read.csv(\"/content/drive/MyDrive/Dataset/SMDI-500E_train.csv\", schema=schema)\n",
        "test = spark.read.csv(\"/content/drive/MyDrive/Dataset/SMDI-500E_test.csv\", schema=schema)"
      ]
    },
    {
      "cell_type": "markdown",
      "source": [
        "# 7 - Treinando"
      ],
      "metadata": {
        "id": "6LHT4WRa9UdT"
      }
    },
    {
      "cell_type": "code",
      "execution_count": 12,
      "metadata": {
        "id": "AWY3OlGddjN9",
        "colab": {
          "base_uri": "https://localhost:8080/"
        },
        "outputId": "8570d11b-3849-442d-f738-4c88bcf84f11"
      },
      "outputs": [
        {
          "output_type": "stream",
          "name": "stdout",
          "text": [
            "Took 146.716975069 seconds for training.\n"
          ]
        }
      ],
      "source": [
        "# Instanciado o modelo de recomendação ALS\n",
        "als = ALS(\n",
        "        userCol=COL_USER,\n",
        "        itemCol=COL_ITEM,\n",
        "        ratingCol=COL_RATING,\n",
        "        coldStartStrategy=\"drop\",\n",
        "        regParam=0.1,\n",
        "        maxIter=15,\n",
        "        rank=128,\n",
        "        seed=2023,\n",
        "        nonnegative=True\n",
        ")\n",
        "\n",
        "with Timer() as train_time:\n",
        "    model = als.fit(train)\n",
        "print(\"Took {} seconds for training.\".format(train_time.interval))"
      ]
    },
    {
      "cell_type": "markdown",
      "metadata": {
        "id": "IWCj7fFXHgES"
      },
      "source": [
        "# 8 - Avaliando"
      ]
    },
    {
      "cell_type": "code",
      "execution_count": 13,
      "metadata": {
        "id": "kM0T7_ucIVMC"
      },
      "outputs": [],
      "source": [
        "# Obtenha a junção cruzada de todos os pares de item de usuário e pontue-os.\n",
        "users = train.select(COL_USER).distinct()\n",
        "items = train.select(COL_ITEM).distinct()\n",
        "user_item = users.crossJoin(items)\n",
        "dfs_pred = model.transform(user_item)\n",
        "\n",
        "# Remova itens vistos pelo treinamento, ou seja, esta ficando só com as cobinações de usuário e item que não foram impostas ao treinamento do modelo.\n",
        "from pyspark.sql.functions import col\n",
        "dfs_pred_exclude_train_old = dfs_pred.alias(\"pred\").join(train.alias(\"train\"), (col(f\"pred.{COL_USER}\") == col(f\"train.{COL_USER}\")) & (col(f\"pred.{COL_ITEM}\") == col(f\"train.{COL_ITEM}\")), how='outer' )\n",
        "dfs_pred_exclude_train = dfs_pred.alias(\"pred\").join(train.alias(\"train\"), [COL_USER, COL_ITEM], how=\"outer\")\n",
        "\n",
        "top_all = dfs_pred_exclude_train.filter(dfs_pred_exclude_train[f\"train.{COL_RATING}\"].isNull()).select('pred.' + COL_USER, 'pred.' + COL_ITEM, 'pred.' + \"prediction\")"
      ]
    },
    {
      "cell_type": "code",
      "source": [
        "rank_eval = SparkRankingEvaluation(\n",
        "    test, #observado\n",
        "    top_all, #predito\n",
        "    k = TOP_K, \n",
        "    col_user=COL_USER, \n",
        "    col_item=COL_ITEM,\n",
        "    col_rating=COL_RATING,\n",
        "    col_prediction=\"prediction\",\n",
        "    relevancy_method=\"top_k\"\n",
        ")\n",
        "\n",
        "print(\n",
        "    \"Model:\\tALS\",\n",
        "    \"Top K:\\t%d\" % rank_eval.k,\n",
        "    \"MAP:\\t%f\" % rank_eval.map_at_k(), \n",
        "    \"NDCG:\\t%f\" % rank_eval.ndcg_at_k(),\n",
        "    \"Precision@K:\\t%f\" % rank_eval.precision_at_k(),\n",
        "    \"Recall@K:\\t%f\" % rank_eval.recall_at_k(), \n",
        "    sep='\\n'\n",
        ")\n",
        "\n"
      ],
      "metadata": {
        "id": "NOevRriBpldW",
        "colab": {
          "base_uri": "https://localhost:8080/"
        },
        "outputId": "4b58aba6-c956-450b-ccb8-6467a2e9d0e5"
      },
      "execution_count": 14,
      "outputs": [
        {
          "output_type": "stream",
          "name": "stdout",
          "text": [
            "Model:\tALS\n",
            "Top K:\t10\n",
            "MAP:\t0.000257\n",
            "NDCG:\t0.002032\n",
            "Precision@K:\t0.002195\n",
            "Recall@K:\t0.001184\n"
          ]
        }
      ]
    },
    {
      "cell_type": "markdown",
      "metadata": {
        "id": "OBVGR72AuTtf"
      },
      "source": [
        "# 8.1 - Recomendações"
      ]
    },
    {
      "cell_type": "code",
      "execution_count": 18,
      "metadata": {
        "id": "Kz4XxIkAjqgI"
      },
      "outputs": [],
      "source": [
        "# Gerando a quantidade de recomendações por usuário\n",
        "recommendations = model.recommendForAllUsers(TOP_K)"
      ]
    },
    {
      "cell_type": "code",
      "source": [
        "# Explodindo as informações em novas colunas para melhor visualizar\n",
        "recommendations = recommendations\\\n",
        "    .withColumn(\"rec_exp\", explode(\"recommendations\"))\\\n",
        "    .select('user_id', col(\"rec_exp.item_id\"), col(\"rec_exp.rating\"))\n",
        "recommendations.limit(15).show()"
      ],
      "metadata": {
        "colab": {
          "base_uri": "https://localhost:8080/"
        },
        "id": "ZHBDHZrZe3yj",
        "outputId": "ac9e95bf-f178-4ba3-8027-e0781ac15a3d"
      },
      "execution_count": 19,
      "outputs": [
        {
          "output_type": "stream",
          "name": "stdout",
          "text": [
            "+-------+-------+----------+\n",
            "|user_id|item_id|    rating|\n",
            "+-------+-------+----------+\n",
            "|      1|   5279| 0.8998934|\n",
            "|      1|    108| 0.8998916|\n",
            "|      1|   5116|0.89989156|\n",
            "|      1|   5100|0.89989156|\n",
            "|      1|   3408|0.89989156|\n",
            "|      1|     80|0.89989156|\n",
            "|      1|   3091|0.89989156|\n",
            "|      1|     20| 0.8998915|\n",
            "|      1|     30| 0.8998915|\n",
            "|      1|     40| 0.8998915|\n",
            "|      5|   5279| 0.8998934|\n",
            "|      5|    108| 0.8998916|\n",
            "|      5|   3408|0.89989156|\n",
            "|      5|     80|0.89989156|\n",
            "|      5|   5100|0.89989156|\n",
            "+-------+-------+----------+\n",
            "\n"
          ]
        }
      ]
    },
    {
      "cell_type": "markdown",
      "source": [
        "# 8.2 - Teste usuário 17"
      ],
      "metadata": {
        "id": "-Uif9l79ZXux"
      }
    },
    {
      "cell_type": "code",
      "source": [
        "user17 = train.filter(train.user_id == 17).select(train.user_id)"
      ],
      "metadata": {
        "id": "P4de26wCxlPa"
      },
      "execution_count": 16,
      "outputs": []
    },
    {
      "cell_type": "code",
      "source": [
        "(model.recommendForUserSubset(dataset=user17, numItems=10)\n",
        "    .withColumn(\"rec_exp\", explode(\"recommendations\"))\n",
        "    .select('user_id', col(\"rec_exp.item_id\"), col(\"rec_exp.rating\")).show())"
      ],
      "metadata": {
        "id": "c05WzcD1Za1H",
        "colab": {
          "base_uri": "https://localhost:8080/"
        },
        "outputId": "761a1f30-d9b2-4c61-844d-29a349fee1bb"
      },
      "execution_count": 17,
      "outputs": [
        {
          "output_type": "stream",
          "name": "stdout",
          "text": [
            "+-------+-------+----------+\n",
            "|user_id|item_id|    rating|\n",
            "+-------+-------+----------+\n",
            "|     17|   5279| 0.8998934|\n",
            "|     17|    108| 0.8998916|\n",
            "|     17|   3408|0.89989156|\n",
            "|     17|     80|0.89989156|\n",
            "|     17|   5100|0.89989156|\n",
            "|     17|   5116|0.89989156|\n",
            "|     17|     60| 0.8998915|\n",
            "|     17|     20| 0.8998915|\n",
            "|     17|     30| 0.8998915|\n",
            "|     17|     40| 0.8998915|\n",
            "+-------+-------+----------+\n",
            "\n"
          ]
        }
      ]
    },
    {
      "cell_type": "markdown",
      "metadata": {
        "id": "f9plGLc9ubcU"
      },
      "source": [
        "### 8.2.1 Análise"
      ]
    },
    {
      "cell_type": "code",
      "execution_count": 20,
      "metadata": {
        "id": "6JOH8-CmrlOT"
      },
      "outputs": [],
      "source": [
        "user_id = '17'"
      ]
    },
    {
      "cell_type": "code",
      "execution_count": 21,
      "metadata": {
        "id": "OWfCL0w-jxgi",
        "colab": {
          "base_uri": "https://localhost:8080/"
        },
        "outputId": "2a58d0aa-8838-4420-df2d-7dcca6af1031"
      },
      "outputs": [
        {
          "output_type": "stream",
          "name": "stdout",
          "text": [
            "+-------+-------+----------+----------+--------+---------+---------+---------+---------+-------+\n",
            "|item_id|user_id|    rating|section_id|brand_id|ref_price|avg_price|min_price|max_price| amount|\n",
            "+-------+-------+----------+----------+--------+---------+---------+---------+---------+-------+\n",
            "|   5279|     17| 0.8998934|        39|      10|      4.9|      4.9|      4.9|      4.9|   29.4|\n",
            "|    108|     17| 0.8998916|        45|       7|     4.99|     7.85|     4.99|     7.91|  408.3|\n",
            "|   3408|     17|0.89989156|        49|      47|     11.9|     11.9|     11.9|     11.9|   35.7|\n",
            "|     80|     17|0.89989156|        45|       7|     4.99|      5.9|     3.99|      7.9| 724.58|\n",
            "|   5100|     17|0.89989156|        47|    1373|     13.9|     13.9|     13.9|     13.9|   41.7|\n",
            "|   5116|     17|0.89989156|        37|     950|      9.9|      9.9|      9.9|      9.9|   19.8|\n",
            "|     60|     17| 0.8998915|        45|       7|     3.99|     2.09|     1.19|     3.99|1901.08|\n",
            "|     20|     17| 0.8998915|        41|       1|     10.9|    11.51|      9.9|     13.9|6329.68|\n",
            "|     30|     17| 0.8998915|        41|       2|     9.49|      7.7|     4.99|      9.0|22862.9|\n",
            "|     40|     17| 0.8998915|        45|       7|     5.99|     5.69|     4.99|     5.99| 899.42|\n",
            "+-------+-------+----------+----------+--------+---------+---------+---------+---------+-------+\n",
            "\n"
          ]
        }
      ],
      "source": [
        "# Recomendações feitas para o usuário\n",
        "recommendations.join(SMDI_items, on='item_id').filter(f'user_id = {user_id}').show()"
      ]
    },
    {
      "cell_type": "code",
      "execution_count": 22,
      "metadata": {
        "id": "-JSQEOA1jzqa",
        "colab": {
          "base_uri": "https://localhost:8080/"
        },
        "outputId": "9752e06d-3361-4447-988b-948e95792192"
      },
      "outputs": [
        {
          "output_type": "stream",
          "name": "stdout",
          "text": [
            "+-------+-------+------+----------+--------+---------+---------+---------+---------+-------+\n",
            "|item_id|user_id|rating|section_id|brand_id|ref_price|avg_price|min_price|max_price| amount|\n",
            "+-------+-------+------+----------+--------+---------+---------+---------+---------+-------+\n",
            "|   3231|     17|     1|        29|     678|     3.59|      3.6|     3.59|     3.98| 734.73|\n",
            "|    656|     17|     1|        47|     125|     4.29|     3.94|      2.8|     4.29| 255.99|\n",
            "|     91|     17|     1|        45|       7|     5.99|     4.25|     1.99|      6.0|4914.92|\n",
            "|    750|     17|     1|        47|     238|     5.49|     5.49|     3.99|     5.99| 609.39|\n",
            "|   1072|     17|     1|        46|     159|     2.79|      2.9|     1.99|     3.41|2260.32|\n",
            "|    871|     17|     1|        47|     105|     2.49|     2.69|     2.69|     2.69|2014.81|\n",
            "|   4009|     17|     1|        39|      10|      5.9|      5.9|      5.9|      5.9|  643.1|\n",
            "|   1150|     17|     1|        48|      14|      1.9|     1.92|      1.9|     1.99| 1875.3|\n",
            "|    824|     17|     1|        47|     247|     1.79|     1.79|     1.79|     1.79| 137.83|\n",
            "|   3320|     17|     1|        45|       7|     4.99|     3.99|     3.99|     3.99|  43.89|\n",
            "|    711|     17|     1|        47|     232|     1.59|     1.37|     0.99|     1.99| 1367.4|\n",
            "|   1772|     17|     1|        47|     316|     3.99|     3.99|     3.99|     3.99|  279.3|\n",
            "|   4421|     17|     1|        48|      25|     23.9|    27.14|    14.91|     33.0|11231.1|\n",
            "|   2167|     17|     1|        47|      97|     1.49|     1.53|     1.49|     1.99| 128.16|\n",
            "+-------+-------+------+----------+--------+---------+---------+---------+---------+-------+\n",
            "\n"
          ]
        }
      ],
      "source": [
        "# Aqui foi a base de teste, onde ele usou para prever quais vão ser os itens que serão comprados\n",
        "test.join(SMDI_items, on='item_id').filter(f'user_id = {user_id}').sort('rating', ascending=False).show()"
      ]
    },
    {
      "cell_type": "code",
      "execution_count": 23,
      "metadata": {
        "id": "Zi1OEOONkUvo",
        "colab": {
          "base_uri": "https://localhost:8080/"
        },
        "outputId": "6de62ea9-74e9-4f51-b25a-db5542457a73"
      },
      "outputs": [
        {
          "output_type": "stream",
          "name": "stdout",
          "text": [
            "+-------+-------+------+----------+--------+---------+---------+---------+---------+--------+\n",
            "|item_id|user_id|rating|section_id|brand_id|ref_price|avg_price|min_price|max_price|  amount|\n",
            "+-------+-------+------+----------+--------+---------+---------+---------+---------+--------+\n",
            "|   4523|     17|     1|        47|     450|     2.99|     2.86|     2.09|     2.99|  163.23|\n",
            "|   2507|     17|     1|        48|      14|     19.9|    19.64|    16.99|    19.99| 2561.27|\n",
            "|     15|     17|     1|        41|       1|    21.99|    25.97|    17.89|     34.9| 2392.58|\n",
            "|    706|     17|     1|        47|     227|     2.99|     2.91|     2.19|     2.99| 2609.23|\n",
            "|    585|     17|     1|        46|     150|     1.79|     1.81|     1.79|     1.99|  692.42|\n",
            "|   3245|     17|     1|        47|     587|     3.99|     4.04|     3.99|     4.39|  286.49|\n",
            "|     97|     17|     1|        45|       7|     4.99|     4.32|     3.98|      6.0| 1767.65|\n",
            "|   1433|     17|     1|        49|      40|     1.79|     1.86|     1.79|     2.49|   39.09|\n",
            "|    132|     17|     1|        48|      14|     10.9|      9.6|     5.88|     12.0|82108.17|\n",
            "|     27|     17|     1|        41|       2|    12.49|    10.63|     7.99|     12.5|73530.66|\n",
            "|   3103|     17|     1|        32|     216|     2.59|     2.47|     2.09|     2.59|   64.34|\n",
            "|   1567|     17|     1|        47|     422|     5.99|     5.99|     5.99|     5.99|  245.59|\n",
            "|     55|     17|     1|        45|       7|     4.99|     3.38|     1.69|      6.0|31907.57|\n",
            "|   1160|     17|     1|        47|     350|     2.29|      2.1|      2.1|      2.1|    54.6|\n",
            "|   1441|     17|     1|        47|     130|     4.99|     4.99|     4.99|     4.99|  154.69|\n",
            "|   3431|     17|     1|        47|     139|     1.49|     1.69|     1.69|     1.69|  258.57|\n",
            "|     60|     17|     1|        45|       7|     3.99|     2.09|     1.19|     3.99| 1901.08|\n",
            "|     39|     17|     1|        45|       7|     3.99|     8.13|     5.99|    10.99| 4697.17|\n",
            "|     86|     17|     1|        45|       7|     4.99|     6.17|     5.98|     6.81| 3272.91|\n",
            "|   4244|     17|     1|        39|      10|     39.9|    35.16|    34.86|     36.9|23276.54|\n",
            "+-------+-------+------+----------+--------+---------+---------+---------+---------+--------+\n",
            "only showing top 20 rows\n",
            "\n"
          ]
        }
      ],
      "source": [
        "# Aqui na base de treino foi a utilizada para entender o \"comportamento\" do usuário\n",
        "train.join(SMDI_items, on='item_id').filter(f'user_id = {user_id}').sort('rating', ascending=False).show()"
      ]
    }
  ],
  "metadata": {
    "colab": {
      "provenance": [],
      "toc_visible": true
    },
    "gpuClass": "standard",
    "kernelspec": {
      "display_name": "Python 3",
      "name": "python3"
    },
    "language_info": {
      "name": "python"
    }
  },
  "nbformat": 4,
  "nbformat_minor": 0
}