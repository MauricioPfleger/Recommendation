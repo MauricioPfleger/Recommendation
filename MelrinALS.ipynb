{
  "cells": [
    {
      "cell_type": "markdown",
      "source": [
        "# 1 - Install"
      ],
      "metadata": {
        "id": "3--hwdQ_1x7m"
      }
    },
    {
      "cell_type": "code",
      "execution_count": 1,
      "metadata": {
        "id": "_V1GQS6CKFpC",
        "colab": {
          "base_uri": "https://localhost:8080/"
        },
        "outputId": "a38ca25a-4965-4d6b-b7cf-88f212742a07"
      },
      "outputs": [
        {
          "output_type": "stream",
          "name": "stdout",
          "text": [
            "Looking in indexes: https://pypi.org/simple, https://us-python.pkg.dev/colab-wheels/public/simple/\n",
            "Requirement already satisfied: merlin-models in /usr/local/lib/python3.9/dist-packages (23.2.0)\n",
            "Requirement already satisfied: merlin-dataloader>=0.0.2 in /usr/local/lib/python3.9/dist-packages (from merlin-models) (23.2.1)\n",
            "Requirement already satisfied: merlin-core>=0.2.0 in /usr/local/lib/python3.9/dist-packages (from merlin-models) (23.2.1)\n",
            "Requirement already satisfied: protobuf>=3.0.0 in /usr/local/lib/python3.9/dist-packages (from merlin-core>=0.2.0->merlin-models) (3.19.6)\n",
            "Requirement already satisfied: fsspec==2022.5.0 in /usr/local/lib/python3.9/dist-packages (from merlin-core>=0.2.0->merlin-models) (2022.5.0)\n",
            "Requirement already satisfied: tensorflow-metadata>=1.2.0 in /usr/local/lib/python3.9/dist-packages (from merlin-core>=0.2.0->merlin-models) (1.12.0)\n",
            "Requirement already satisfied: betterproto<2.0.0 in /usr/local/lib/python3.9/dist-packages (from merlin-core>=0.2.0->merlin-models) (1.2.5)\n",
            "Requirement already satisfied: packaging in /usr/local/lib/python3.9/dist-packages (from merlin-core>=0.2.0->merlin-models) (23.0)\n",
            "Requirement already satisfied: tqdm>=4.0 in /usr/local/lib/python3.9/dist-packages (from merlin-core>=0.2.0->merlin-models) (4.65.0)\n",
            "Requirement already satisfied: pandas<1.6.0dev0,>=1.2.0 in /usr/local/lib/python3.9/dist-packages (from merlin-core>=0.2.0->merlin-models) (1.4.4)\n",
            "Requirement already satisfied: pyarrow>=5.0.0 in /usr/local/lib/python3.9/dist-packages (from merlin-core>=0.2.0->merlin-models) (9.0.0)\n",
            "Requirement already satisfied: pynvml<11.5,>=11.0.0 in /usr/local/lib/python3.9/dist-packages (from merlin-core>=0.2.0->merlin-models) (11.4.1)\n",
            "Requirement already satisfied: numba>=0.54 in /usr/local/lib/python3.9/dist-packages (from merlin-core>=0.2.0->merlin-models) (0.56.4)\n",
            "Requirement already satisfied: distributed>=2022.3.0 in /usr/local/lib/python3.9/dist-packages (from merlin-core>=0.2.0->merlin-models) (2022.12.1)\n",
            "Requirement already satisfied: dask>=2022.3.0 in /usr/local/lib/python3.9/dist-packages (from merlin-core>=0.2.0->merlin-models) (2022.12.1)\n",
            "Requirement already satisfied: grpclib in /usr/local/lib/python3.9/dist-packages (from betterproto<2.0.0->merlin-core>=0.2.0->merlin-models) (0.4.3)\n",
            "Requirement already satisfied: stringcase in /usr/local/lib/python3.9/dist-packages (from betterproto<2.0.0->merlin-core>=0.2.0->merlin-models) (1.2.0)\n",
            "Requirement already satisfied: cloudpickle>=1.1.1 in /usr/local/lib/python3.9/dist-packages (from dask>=2022.3.0->merlin-core>=0.2.0->merlin-models) (2.2.1)\n",
            "Requirement already satisfied: pyyaml>=5.3.1 in /usr/local/lib/python3.9/dist-packages (from dask>=2022.3.0->merlin-core>=0.2.0->merlin-models) (6.0)\n",
            "Requirement already satisfied: partd>=0.3.10 in /usr/local/lib/python3.9/dist-packages (from dask>=2022.3.0->merlin-core>=0.2.0->merlin-models) (1.3.0)\n",
            "Requirement already satisfied: toolz>=0.8.2 in /usr/local/lib/python3.9/dist-packages (from dask>=2022.3.0->merlin-core>=0.2.0->merlin-models) (0.12.0)\n",
            "Requirement already satisfied: click>=7.0 in /usr/local/lib/python3.9/dist-packages (from dask>=2022.3.0->merlin-core>=0.2.0->merlin-models) (8.1.3)\n",
            "Requirement already satisfied: sortedcontainers!=2.0.0,!=2.0.1 in /usr/local/lib/python3.9/dist-packages (from distributed>=2022.3.0->merlin-core>=0.2.0->merlin-models) (2.4.0)\n",
            "Requirement already satisfied: locket>=1.0.0 in /usr/local/lib/python3.9/dist-packages (from distributed>=2022.3.0->merlin-core>=0.2.0->merlin-models) (1.0.0)\n",
            "Requirement already satisfied: msgpack>=0.6.0 in /usr/local/lib/python3.9/dist-packages (from distributed>=2022.3.0->merlin-core>=0.2.0->merlin-models) (1.0.5)\n",
            "Requirement already satisfied: urllib3 in /usr/local/lib/python3.9/dist-packages (from distributed>=2022.3.0->merlin-core>=0.2.0->merlin-models) (1.26.15)\n",
            "Requirement already satisfied: zict>=0.1.3 in /usr/local/lib/python3.9/dist-packages (from distributed>=2022.3.0->merlin-core>=0.2.0->merlin-models) (2.2.0)\n",
            "Requirement already satisfied: tblib>=1.6.0 in /usr/local/lib/python3.9/dist-packages (from distributed>=2022.3.0->merlin-core>=0.2.0->merlin-models) (1.7.0)\n",
            "Requirement already satisfied: jinja2 in /usr/local/lib/python3.9/dist-packages (from distributed>=2022.3.0->merlin-core>=0.2.0->merlin-models) (3.1.2)\n",
            "Requirement already satisfied: tornado>=6.0.3 in /usr/local/lib/python3.9/dist-packages (from distributed>=2022.3.0->merlin-core>=0.2.0->merlin-models) (6.2)\n",
            "Requirement already satisfied: psutil>=5.0 in /usr/local/lib/python3.9/dist-packages (from distributed>=2022.3.0->merlin-core>=0.2.0->merlin-models) (5.9.4)\n",
            "Requirement already satisfied: llvmlite<0.40,>=0.39.0dev0 in /usr/local/lib/python3.9/dist-packages (from numba>=0.54->merlin-core>=0.2.0->merlin-models) (0.39.1)\n",
            "Requirement already satisfied: setuptools in /usr/local/lib/python3.9/dist-packages (from numba>=0.54->merlin-core>=0.2.0->merlin-models) (63.4.3)\n",
            "Requirement already satisfied: numpy<1.24,>=1.18 in /usr/local/lib/python3.9/dist-packages (from numba>=0.54->merlin-core>=0.2.0->merlin-models) (1.22.4)\n",
            "Requirement already satisfied: python-dateutil>=2.8.1 in /usr/local/lib/python3.9/dist-packages (from pandas<1.6.0dev0,>=1.2.0->merlin-core>=0.2.0->merlin-models) (2.8.2)\n",
            "Requirement already satisfied: pytz>=2020.1 in /usr/local/lib/python3.9/dist-packages (from pandas<1.6.0dev0,>=1.2.0->merlin-core>=0.2.0->merlin-models) (2022.7.1)\n",
            "Requirement already satisfied: absl-py<2.0.0,>=0.9 in /usr/local/lib/python3.9/dist-packages (from tensorflow-metadata>=1.2.0->merlin-core>=0.2.0->merlin-models) (1.4.0)\n",
            "Requirement already satisfied: googleapis-common-protos<2,>=1.52.0 in /usr/local/lib/python3.9/dist-packages (from tensorflow-metadata>=1.2.0->merlin-core>=0.2.0->merlin-models) (1.58.0)\n",
            "Requirement already satisfied: six>=1.5 in /usr/local/lib/python3.9/dist-packages (from python-dateutil>=2.8.1->pandas<1.6.0dev0,>=1.2.0->merlin-core>=0.2.0->merlin-models) (1.15.0)\n",
            "Requirement already satisfied: heapdict in /usr/local/lib/python3.9/dist-packages (from zict>=0.1.3->distributed>=2022.3.0->merlin-core>=0.2.0->merlin-models) (1.0.1)\n",
            "Requirement already satisfied: h2<5,>=3.1.0 in /usr/local/lib/python3.9/dist-packages (from grpclib->betterproto<2.0.0->merlin-core>=0.2.0->merlin-models) (4.1.0)\n",
            "Requirement already satisfied: multidict in /usr/local/lib/python3.9/dist-packages (from grpclib->betterproto<2.0.0->merlin-core>=0.2.0->merlin-models) (6.0.4)\n",
            "Requirement already satisfied: MarkupSafe>=2.0 in /usr/local/lib/python3.9/dist-packages (from jinja2->distributed>=2022.3.0->merlin-core>=0.2.0->merlin-models) (2.1.2)\n",
            "Requirement already satisfied: hpack<5,>=4.0 in /usr/local/lib/python3.9/dist-packages (from h2<5,>=3.1.0->grpclib->betterproto<2.0.0->merlin-core>=0.2.0->merlin-models) (4.0.0)\n",
            "Requirement already satisfied: hyperframe<7,>=6.0 in /usr/local/lib/python3.9/dist-packages (from h2<5,>=3.1.0->grpclib->betterproto<2.0.0->merlin-core>=0.2.0->merlin-models) (6.0.1)\n",
            "Looking in indexes: https://pypi.org/simple, https://us-python.pkg.dev/colab-wheels/public/simple/\n",
            "Requirement already satisfied: nvtabular in /usr/local/lib/python3.9/dist-packages (23.2.0)\n",
            "Requirement already satisfied: scipy in /usr/local/lib/python3.9/dist-packages (from nvtabular) (1.10.1)\n",
            "Requirement already satisfied: merlin-core>=0.2.0 in /usr/local/lib/python3.9/dist-packages (from nvtabular) (23.2.1)\n",
            "Requirement already satisfied: merlin-dataloader>=0.0.2 in /usr/local/lib/python3.9/dist-packages (from nvtabular) (23.2.1)\n",
            "Requirement already satisfied: fsspec==2022.5.0 in /usr/local/lib/python3.9/dist-packages (from merlin-core>=0.2.0->nvtabular) (2022.5.0)\n",
            "Requirement already satisfied: numba>=0.54 in /usr/local/lib/python3.9/dist-packages (from merlin-core>=0.2.0->nvtabular) (0.56.4)\n",
            "Requirement already satisfied: packaging in /usr/local/lib/python3.9/dist-packages (from merlin-core>=0.2.0->nvtabular) (23.0)\n",
            "Requirement already satisfied: pyarrow>=5.0.0 in /usr/local/lib/python3.9/dist-packages (from merlin-core>=0.2.0->nvtabular) (9.0.0)\n",
            "Requirement already satisfied: tqdm>=4.0 in /usr/local/lib/python3.9/dist-packages (from merlin-core>=0.2.0->nvtabular) (4.65.0)\n",
            "Requirement already satisfied: dask>=2022.3.0 in /usr/local/lib/python3.9/dist-packages (from merlin-core>=0.2.0->nvtabular) (2022.12.1)\n",
            "Requirement already satisfied: pynvml<11.5,>=11.0.0 in /usr/local/lib/python3.9/dist-packages (from merlin-core>=0.2.0->nvtabular) (11.4.1)\n",
            "Requirement already satisfied: protobuf>=3.0.0 in /usr/local/lib/python3.9/dist-packages (from merlin-core>=0.2.0->nvtabular) (3.19.6)\n",
            "Requirement already satisfied: distributed>=2022.3.0 in /usr/local/lib/python3.9/dist-packages (from merlin-core>=0.2.0->nvtabular) (2022.12.1)\n",
            "Requirement already satisfied: betterproto<2.0.0 in /usr/local/lib/python3.9/dist-packages (from merlin-core>=0.2.0->nvtabular) (1.2.5)\n",
            "Requirement already satisfied: tensorflow-metadata>=1.2.0 in /usr/local/lib/python3.9/dist-packages (from merlin-core>=0.2.0->nvtabular) (1.12.0)\n",
            "Requirement already satisfied: pandas<1.6.0dev0,>=1.2.0 in /usr/local/lib/python3.9/dist-packages (from merlin-core>=0.2.0->nvtabular) (1.4.4)\n",
            "Requirement already satisfied: numpy<1.27.0,>=1.19.5 in /usr/local/lib/python3.9/dist-packages (from scipy->nvtabular) (1.22.4)\n",
            "Requirement already satisfied: stringcase in /usr/local/lib/python3.9/dist-packages (from betterproto<2.0.0->merlin-core>=0.2.0->nvtabular) (1.2.0)\n",
            "Requirement already satisfied: grpclib in /usr/local/lib/python3.9/dist-packages (from betterproto<2.0.0->merlin-core>=0.2.0->nvtabular) (0.4.3)\n",
            "Requirement already satisfied: partd>=0.3.10 in /usr/local/lib/python3.9/dist-packages (from dask>=2022.3.0->merlin-core>=0.2.0->nvtabular) (1.3.0)\n",
            "Requirement already satisfied: cloudpickle>=1.1.1 in /usr/local/lib/python3.9/dist-packages (from dask>=2022.3.0->merlin-core>=0.2.0->nvtabular) (2.2.1)\n",
            "Requirement already satisfied: pyyaml>=5.3.1 in /usr/local/lib/python3.9/dist-packages (from dask>=2022.3.0->merlin-core>=0.2.0->nvtabular) (6.0)\n",
            "Requirement already satisfied: toolz>=0.8.2 in /usr/local/lib/python3.9/dist-packages (from dask>=2022.3.0->merlin-core>=0.2.0->nvtabular) (0.12.0)\n",
            "Requirement already satisfied: click>=7.0 in /usr/local/lib/python3.9/dist-packages (from dask>=2022.3.0->merlin-core>=0.2.0->nvtabular) (8.1.3)\n",
            "Requirement already satisfied: locket>=1.0.0 in /usr/local/lib/python3.9/dist-packages (from distributed>=2022.3.0->merlin-core>=0.2.0->nvtabular) (1.0.0)\n",
            "Requirement already satisfied: msgpack>=0.6.0 in /usr/local/lib/python3.9/dist-packages (from distributed>=2022.3.0->merlin-core>=0.2.0->nvtabular) (1.0.5)\n",
            "Requirement already satisfied: sortedcontainers!=2.0.0,!=2.0.1 in /usr/local/lib/python3.9/dist-packages (from distributed>=2022.3.0->merlin-core>=0.2.0->nvtabular) (2.4.0)\n",
            "Requirement already satisfied: tornado>=6.0.3 in /usr/local/lib/python3.9/dist-packages (from distributed>=2022.3.0->merlin-core>=0.2.0->nvtabular) (6.2)\n",
            "Requirement already satisfied: jinja2 in /usr/local/lib/python3.9/dist-packages (from distributed>=2022.3.0->merlin-core>=0.2.0->nvtabular) (3.1.2)\n",
            "Requirement already satisfied: psutil>=5.0 in /usr/local/lib/python3.9/dist-packages (from distributed>=2022.3.0->merlin-core>=0.2.0->nvtabular) (5.9.4)\n",
            "Requirement already satisfied: urllib3 in /usr/local/lib/python3.9/dist-packages (from distributed>=2022.3.0->merlin-core>=0.2.0->nvtabular) (1.26.15)\n",
            "Requirement already satisfied: tblib>=1.6.0 in /usr/local/lib/python3.9/dist-packages (from distributed>=2022.3.0->merlin-core>=0.2.0->nvtabular) (1.7.0)\n",
            "Requirement already satisfied: zict>=0.1.3 in /usr/local/lib/python3.9/dist-packages (from distributed>=2022.3.0->merlin-core>=0.2.0->nvtabular) (2.2.0)\n",
            "Requirement already satisfied: setuptools in /usr/local/lib/python3.9/dist-packages (from numba>=0.54->merlin-core>=0.2.0->nvtabular) (63.4.3)\n",
            "Requirement already satisfied: llvmlite<0.40,>=0.39.0dev0 in /usr/local/lib/python3.9/dist-packages (from numba>=0.54->merlin-core>=0.2.0->nvtabular) (0.39.1)\n",
            "Requirement already satisfied: python-dateutil>=2.8.1 in /usr/local/lib/python3.9/dist-packages (from pandas<1.6.0dev0,>=1.2.0->merlin-core>=0.2.0->nvtabular) (2.8.2)\n",
            "Requirement already satisfied: pytz>=2020.1 in /usr/local/lib/python3.9/dist-packages (from pandas<1.6.0dev0,>=1.2.0->merlin-core>=0.2.0->nvtabular) (2022.7.1)\n",
            "Requirement already satisfied: absl-py<2.0.0,>=0.9 in /usr/local/lib/python3.9/dist-packages (from tensorflow-metadata>=1.2.0->merlin-core>=0.2.0->nvtabular) (1.4.0)\n",
            "Requirement already satisfied: googleapis-common-protos<2,>=1.52.0 in /usr/local/lib/python3.9/dist-packages (from tensorflow-metadata>=1.2.0->merlin-core>=0.2.0->nvtabular) (1.58.0)\n",
            "Requirement already satisfied: six>=1.5 in /usr/local/lib/python3.9/dist-packages (from python-dateutil>=2.8.1->pandas<1.6.0dev0,>=1.2.0->merlin-core>=0.2.0->nvtabular) (1.15.0)\n",
            "Requirement already satisfied: heapdict in /usr/local/lib/python3.9/dist-packages (from zict>=0.1.3->distributed>=2022.3.0->merlin-core>=0.2.0->nvtabular) (1.0.1)\n",
            "Requirement already satisfied: h2<5,>=3.1.0 in /usr/local/lib/python3.9/dist-packages (from grpclib->betterproto<2.0.0->merlin-core>=0.2.0->nvtabular) (4.1.0)\n",
            "Requirement already satisfied: multidict in /usr/local/lib/python3.9/dist-packages (from grpclib->betterproto<2.0.0->merlin-core>=0.2.0->nvtabular) (6.0.4)\n",
            "Requirement already satisfied: MarkupSafe>=2.0 in /usr/local/lib/python3.9/dist-packages (from jinja2->distributed>=2022.3.0->merlin-core>=0.2.0->nvtabular) (2.1.2)\n",
            "Requirement already satisfied: hpack<5,>=4.0 in /usr/local/lib/python3.9/dist-packages (from h2<5,>=3.1.0->grpclib->betterproto<2.0.0->merlin-core>=0.2.0->nvtabular) (4.0.0)\n",
            "Requirement already satisfied: hyperframe<7,>=6.0 in /usr/local/lib/python3.9/dist-packages (from h2<5,>=3.1.0->grpclib->betterproto<2.0.0->merlin-core>=0.2.0->nvtabular) (6.0.1)\n",
            "Looking in indexes: https://pypi.org/simple, https://us-python.pkg.dev/colab-wheels/public/simple/\n",
            "Requirement already satisfied: implicit in /usr/local/lib/python3.9/dist-packages (0.6.2)\n",
            "Requirement already satisfied: scipy>=0.16 in /usr/local/lib/python3.9/dist-packages (from implicit) (1.10.1)\n",
            "Requirement already satisfied: numpy in /usr/local/lib/python3.9/dist-packages (from implicit) (1.22.4)\n",
            "Requirement already satisfied: tqdm>=4.27 in /usr/local/lib/python3.9/dist-packages (from implicit) (4.65.0)\n",
            "Looking in indexes: https://pypi.org/simple, https://us-python.pkg.dev/colab-wheels/public/simple/\n",
            "Requirement already satisfied: cython in /usr/local/lib/python3.9/dist-packages (0.29.33)\n"
          ]
        }
      ],
      "source": [
        "!pip install merlin-models\n",
        "!pip install nvtabular\n",
        "!pip install implicit\n",
        "!pip install cython"
      ]
    },
    {
      "cell_type": "markdown",
      "source": [
        "# 2 - Imports"
      ],
      "metadata": {
        "id": "9XC_CsgT11cO"
      }
    },
    {
      "cell_type": "code",
      "execution_count": 2,
      "metadata": {
        "id": "F9TIoLTwKFpG",
        "colab": {
          "base_uri": "https://localhost:8080/"
        },
        "outputId": "f7b07414-313d-459b-bc99-8bebaa9d66cf"
      },
      "outputs": [
        {
          "output_type": "stream",
          "name": "stderr",
          "text": [
            "/usr/local/lib/python3.9/dist-packages/merlin/dtypes/mappings/cudf.py:57: UserWarning: cuDF dtype mappings did not load successfully due to an error: No module named 'cudf'\n",
            "  warn(f\"cuDF dtype mappings did not load successfully due to an error: {exc.msg}\")\n",
            "/usr/local/lib/python3.9/dist-packages/merlin/dtypes/mappings/triton.py:53: UserWarning: Triton dtype mappings did not load successfully due to an error: No module named 'tritonclient'\n",
            "  warn(f\"Triton dtype mappings did not load successfully due to an error: {exc.msg}\")\n",
            "/usr/local/lib/python3.9/dist-packages/implicit/gpu/__init__.py:13: UserWarning: CUDA extension is built, but disabling GPU support because of 'Cuda Error: no CUDA-capable device is detected (/project/./implicit/gpu/utils.h:71)'\n",
            "  warnings.warn(\n"
          ]
        }
      ],
      "source": [
        "import warnings\n",
        "warnings.simplefilter(action='ignore', category=FutureWarning)\n",
        "\n",
        "from google.colab import drive\n",
        "import os\n",
        "import shutil\n",
        "import numpy as np\n",
        "from numpy.ma import count\n",
        "import cython\n",
        "from scipy.sparse import coo_matrix, csr_matrix\n",
        "from tqdm.auto import tqdm\n",
        "\n",
        "import nvtabular as nvt\n",
        "from nvtabular.ops import AddMetadata\n",
        "\n",
        "from merlin.core.dispatch import get_lib\n",
        "from merlin.schema.tags import Tags\n",
        "from merlin.io.dataset import Dataset\n",
        "from merlin.models.utils.dataset import dataset_to_coo\n",
        "from merlin.models.implicit import AlternatingLeastSquares"
      ]
    },
    {
      "cell_type": "markdown",
      "source": [
        "# 3 - Método com recall"
      ],
      "metadata": {
        "id": "Bs2mEQsz13ys"
      }
    },
    {
      "cell_type": "code",
      "execution_count": 23,
      "metadata": {
        "id": "6cIVHsNacjxM"
      },
      "outputs": [],
      "source": [
        "from numpy import double\n",
        "\n",
        "\n",
        "class AlternatingLeastSquaresWithRecall(AlternatingLeastSquares):\n",
        "  def ranking_metrics_at_k_recall(model, train_user_items, test_user_items, K=10,\n",
        "                        show_progress=True, num_threads=1):\n",
        "    \"\"\" Calculates ranking metrics for a given trained model\n",
        "    Parameters\n",
        "    ----------\n",
        "    model : RecommenderBase\n",
        "        The fitted recommendation model to test\n",
        "    train_user_items : csr_matrix\n",
        "        Sparse matrix of user by item that contains elements that were used\n",
        "            in training the model\n",
        "    test_user_items : csr_matrix\n",
        "        Sparse matrix of user by item that contains withheld elements to\n",
        "        test on\n",
        "    K : int\n",
        "        Number of items to test on\n",
        "    show_progress : bool, optional\n",
        "        Whether to show a progress bar\n",
        "    num_threads : int, optional\n",
        "        The number of threads to use for testing. Specifying 0 means to default\n",
        "        to the number of cores on the machine. Note: aside from the ALS and BPR\n",
        "        models, setting this to more than 1 will likely hurt performance rather than\n",
        "        help.\n",
        "    Returns\n",
        "    -------\n",
        "    float\n",
        "        the calculated p@k\n",
        "    \"\"\"\n",
        "    if not isinstance(train_user_items, csr_matrix):\n",
        "      train_user_items = train_user_items.tocsr()\n",
        "\n",
        "    if not isinstance(test_user_items, csr_matrix):\n",
        "      test_user_items = test_user_items.tocsr()\n",
        "\n",
        "    users = test_user_items.shape[0] \n",
        "    items = test_user_items.shape[1]\n",
        "    u = 0\n",
        "    i = 0\n",
        "    batch_idx = 0\n",
        "    # precision\n",
        "    relevant = 0.0\n",
        "    pr_div = 0.0\n",
        "    total = 0.0 \n",
        "    total_recall = 0.0\n",
        "    # map\n",
        "    mean_ap = 0.0\n",
        "    ap = 0.0\n",
        "    # ndcg\n",
        "    cg = (1.0 / np.log2(np.arange(2, K + 2)))\n",
        "    cg_sum = np.cumsum(cg)\n",
        "    ndcg = 0.0 \n",
        "    idcg = 0\n",
        "    # auc\n",
        "    mean_auc = 0.0\n",
        "    auc = 0.0\n",
        "    hit = 0.0\n",
        "    miss = 0.0\n",
        "    num_pos_items = 0.0\n",
        "    num_neg_items = 0.0\n",
        "\n",
        "    test_indptr = test_user_items.indptr\n",
        "    test_indices = test_user_items.indices\n",
        "\n",
        "    ids = [[],[]]\n",
        "    batch = []\n",
        "\n",
        "    likes = []\n",
        "\n",
        "    batch_size = 1000\n",
        "    start_idx = 0\n",
        "\n",
        "    # get an array of userids that have at least one item in the test set\n",
        "    to_generate = np.arange(users, dtype=\"int32\")\n",
        "    to_generate = to_generate[np.ediff1d(test_user_items.indptr) > 0]\n",
        "\n",
        "    progress = tqdm(total=len(to_generate), disable=not show_progress)\n",
        "    total_recall = total\n",
        "\n",
        "    while start_idx < len(to_generate):\n",
        "      batch = to_generate[start_idx: start_idx + batch_size]\n",
        "      ids, _ = model.recommend(batch, train_user_items[batch], N=K)\n",
        "      start_idx += batch_size\n",
        "\n",
        "      #with nogil:\n",
        "      for batch_idx in range(len(batch)):\n",
        "        u = batch[batch_idx]\n",
        "        likes.clear()\n",
        "        for i in range(test_indptr[u], test_indptr[u+1]):\n",
        "          likes.append(test_indices[i])\n",
        "\n",
        "        pr_div += min(K, count(likes))\n",
        "        ap = 0\n",
        "        hit = 0\n",
        "        miss = 0\n",
        "        auc = 0\n",
        "        idcg = cg_sum[min(K, count(likes)) - 1]\n",
        "        num_pos_items = count(likes)\n",
        "        num_neg_items = items - num_pos_items\n",
        "        \n",
        "        for i in range(K):\n",
        "          if ((ids[batch_idx, i] in likes) and (likes.index(ids[batch_idx, i]) != count(likes))): #likes.end()\n",
        "            relevant += 1\n",
        "            hit += 1\n",
        "            ap += hit / (i + 1)\n",
        "            ndcg += cg[i] / idcg\n",
        "          else:\n",
        "            miss += 1\n",
        "            auc += hit\n",
        "        auc += ((hit + num_pos_items) / 2.0) * (num_neg_items - miss)\n",
        "        mean_ap += ap / min(K, count(likes))\n",
        "        mean_auc += auc / (num_pos_items * num_neg_items)\n",
        "        total += 1\n",
        "        total_recall += count(likes)\n",
        "\n",
        "      progress.update(len(batch))\n",
        "\n",
        "    progress.close()\n",
        "    # print(\"precision\", relevant / pr_div,\n",
        "    #       \"map\", mean_ap / total,\n",
        "    #       \"ndcg\", ndcg / total,\n",
        "    #       \"auc\", mean_auc / total,\n",
        "    #       \"recall\", mean_auc / total_recall    \n",
        "    #)\n",
        "    return {\n",
        "      \"precision\": relevant / pr_div,\n",
        "      \"map\": mean_ap / total,\n",
        "      \"ndcg\": ndcg / total,\n",
        "      \"auc\": mean_auc / total,\n",
        "      \"recall\": mean_auc / total_recall\n",
        "    }\n",
        "\n",
        "  def evaluate_recall(self, test_dataset: Dataset, k=10):\n",
        "        \"\"\"Evaluates the model\n",
        "\n",
        "        This function evaluates using a variety of ranking metrics, and returns\n",
        "        a dictionary of {metric_name: value}.\n",
        "\n",
        "        Parameters\n",
        "        ----------\n",
        "        test_dataset : merlin.io.Dataset\n",
        "            The validation dataset to evaluate\n",
        "        k : int\n",
        "            How many items to return per prediction. By default this method will\n",
        "            return metrics like 'map@10' , but by increasing k you can generate\n",
        "            different versions\n",
        "        \"\"\"\n",
        "        test = dataset_to_coo(test_dataset).tocsr()\n",
        "        ret = AlternatingLeastSquaresWithRecall.ranking_metrics_at_k_recall(\n",
        "            self.implicit_model,\n",
        "            self.train_data,\n",
        "            test,\n",
        "            K=k,\n",
        "        )\n",
        "        return {metric + f\"@{k}\": value for metric, value in ret.items()} "
      ]
    },
    {
      "cell_type": "markdown",
      "source": [
        "# 4 - Diretórios"
      ],
      "metadata": {
        "id": "XqCv3FOC1-Gr"
      }
    },
    {
      "cell_type": "markdown",
      "source": [
        "## 4.1 - Remover diretórios"
      ],
      "metadata": {
        "id": "wzYu4JEU2BmW"
      }
    },
    {
      "cell_type": "code",
      "execution_count": 4,
      "metadata": {
        "id": "zh2TbMZ5dUK-"
      },
      "outputs": [],
      "source": [
        "if os.path.exists('train.parquet'):\n",
        "  os.remove('train.parquet')\n",
        "if os.path.exists('test.parquet'):\n",
        "  os.remove('test.parquet')\n",
        "shutil.rmtree('train', ignore_errors=True)\n",
        "shutil.rmtree('test', ignore_errors=True)"
      ]
    },
    {
      "cell_type": "markdown",
      "source": [
        "## 4.2 - Google Drive\n"
      ],
      "metadata": {
        "id": "JRl94sWF2FAC"
      }
    },
    {
      "cell_type": "code",
      "execution_count": 5,
      "metadata": {
        "id": "8VJt8421KSTd",
        "colab": {
          "base_uri": "https://localhost:8080/"
        },
        "outputId": "94ae41a4-f0b2-448d-d0eb-5b74a768b7c8"
      },
      "outputs": [
        {
          "output_type": "stream",
          "name": "stdout",
          "text": [
            "Mounted at /content/drive/\n",
            "SMDI-200UE.csv\tSMDI-500E_test.csv   SMDI_original.csv\n",
            "SMDI-500E.csv\tSMDI-500E_train.csv  SMDI_test.csv\n"
          ]
        }
      ],
      "source": [
        "drive.mount(r'/content/drive/')\n",
        "!ls \"/content/drive/MyDrive/Dataset\""
      ]
    },
    {
      "cell_type": "markdown",
      "source": [
        "# 5 - Preliminaries\n",
        "\n"
      ],
      "metadata": {
        "id": "dSUPqx0i2Sm4"
      }
    },
    {
      "cell_type": "code",
      "execution_count": 6,
      "metadata": {
        "id": "dfXGneUk08ah"
      },
      "outputs": [],
      "source": [
        "COL_USER = \"user_id\"\n",
        "COL_ITEM = \"item_id\"\n",
        "COL_RATING = \"rating\"\n",
        "COL_TIMESTAMP = \"timestamp\"\n",
        "COL_PREDICTION = \"prediction\"\n",
        "TOP_K = 10\n",
        "INPUT_DATA_DIR = '/content/drive/MyDrive/Dataset/'\n",
        "df_lib = get_lib()"
      ]
    },
    {
      "cell_type": "markdown",
      "source": [
        "# 6 - Dataset"
      ],
      "metadata": {
        "id": "OneMRxBB2YzQ"
      }
    },
    {
      "cell_type": "code",
      "execution_count": 7,
      "metadata": {
        "id": "oPKiH7JiKFpI"
      },
      "outputs": [],
      "source": [
        "columns = [COL_USER, COL_ITEM, COL_RATING]\n",
        "train = df_lib.read_csv(os.path.join(INPUT_DATA_DIR, \"SMDI-500E_train.csv\"), names=columns)\n",
        "test = df_lib.read_csv(os.path.join(INPUT_DATA_DIR, \"SMDI-500E_test.csv\"), names=columns)"
      ]
    },
    {
      "cell_type": "code",
      "execution_count": 8,
      "metadata": {
        "id": "mBLn2FhqKFpL"
      },
      "outputs": [],
      "source": [
        "train.to_parquet(\"train.parquet\")\n",
        "test.to_parquet(\"test.parquet\")"
      ]
    },
    {
      "cell_type": "code",
      "execution_count": 9,
      "metadata": {
        "id": "qIQERZtAKFpM",
        "colab": {
          "base_uri": "https://localhost:8080/"
        },
        "outputId": "0c404653-88cc-407b-b281-3beee125a17e"
      },
      "outputs": [
        {
          "output_type": "stream",
          "name": "stderr",
          "text": [
            "/usr/local/lib/python3.9/dist-packages/merlin/io/dataset.py:254: UserWarning: Initializing an NVTabular Dataset in CPU mode.This is an experimental feature with extremely limited support!\n",
            "  warnings.warn(\n",
            "/usr/local/lib/python3.9/dist-packages/merlin/io/dataset.py:254: UserWarning: Initializing an NVTabular Dataset in CPU mode.This is an experimental feature with extremely limited support!\n",
            "  warnings.warn(\n"
          ]
        }
      ],
      "source": [
        "train_dataset = Dataset(\"train.parquet\", cpu=True)\n",
        "test_dataset = Dataset(\"test.parquet\", cpu=True)"
      ]
    },
    {
      "cell_type": "code",
      "execution_count": 10,
      "metadata": {
        "id": "QdxYDdwG_71D"
      },
      "outputs": [],
      "source": [
        "user_id = [\"user_id\"] >> AddMetadata(tags=[Tags.USER_ID, \"user_id\"]) \n",
        "item_id = [\"item_id\"] >> AddMetadata(tags=[Tags.ITEM, \"item_id\"])\n",
        "rating = [\"rating\"] >> AddMetadata(tags=[Tags.TARGET])"
      ]
    },
    {
      "cell_type": "code",
      "execution_count": 11,
      "metadata": {
        "id": "affRhIZEE2Pa",
        "colab": {
          "base_uri": "https://localhost:8080/"
        },
        "outputId": "7b83cf23-828e-4696-c6c7-9720ee6cca6d"
      },
      "outputs": [
        {
          "output_type": "stream",
          "name": "stderr",
          "text": [
            "/usr/local/lib/python3.9/dist-packages/merlin/schema/tags.py:148: UserWarning: Compound tags like Tags.USER_ID have been deprecated and will be removed in a future version. Please use the atomic versions of these tags, like [<Tags.USER: 'user'>, <Tags.ID: 'id'>].\n",
            "  warnings.warn(\n",
            "/usr/local/lib/python3.9/dist-packages/merlin/schema/tags.py:148: UserWarning: Compound tags like Tags.ITEM_ID have been deprecated and will be removed in a future version. Please use the atomic versions of these tags, like [<Tags.ITEM: 'item'>, <Tags.ID: 'id'>].\n",
            "  warnings.warn(\n",
            "/usr/local/lib/python3.9/dist-packages/merlin/io/dataset.py:254: UserWarning: Initializing an NVTabular Dataset in CPU mode.This is an experimental feature with extremely limited support!\n",
            "  warnings.warn(\n",
            "/usr/local/lib/python3.9/dist-packages/merlin/schema/tags.py:148: UserWarning: Compound tags like Tags.USER_ID have been deprecated and will be removed in a future version. Please use the atomic versions of these tags, like [<Tags.USER: 'user'>, <Tags.ID: 'id'>].\n",
            "  warnings.warn(\n",
            "/usr/local/lib/python3.9/dist-packages/merlin/schema/tags.py:148: UserWarning: Compound tags like Tags.ITEM_ID have been deprecated and will be removed in a future version. Please use the atomic versions of these tags, like [<Tags.ITEM: 'item'>, <Tags.ID: 'id'>].\n",
            "  warnings.warn(\n",
            "/usr/local/lib/python3.9/dist-packages/merlin/schema/tags.py:148: UserWarning: Compound tags like Tags.USER_ID have been deprecated and will be removed in a future version. Please use the atomic versions of these tags, like [<Tags.USER: 'user'>, <Tags.ID: 'id'>].\n",
            "  warnings.warn(\n",
            "/usr/local/lib/python3.9/dist-packages/merlin/schema/tags.py:148: UserWarning: Compound tags like Tags.ITEM_ID have been deprecated and will be removed in a future version. Please use the atomic versions of these tags, like [<Tags.ITEM: 'item'>, <Tags.ID: 'id'>].\n",
            "  warnings.warn(\n",
            "/usr/local/lib/python3.9/dist-packages/merlin/schema/tags.py:148: UserWarning: Compound tags like Tags.USER_ID have been deprecated and will be removed in a future version. Please use the atomic versions of these tags, like [<Tags.USER: 'user'>, <Tags.ID: 'id'>].\n",
            "  warnings.warn(\n",
            "/usr/local/lib/python3.9/dist-packages/merlin/schema/tags.py:148: UserWarning: Compound tags like Tags.ITEM_ID have been deprecated and will be removed in a future version. Please use the atomic versions of these tags, like [<Tags.ITEM: 'item'>, <Tags.ID: 'id'>].\n",
            "  warnings.warn(\n",
            "/usr/local/lib/python3.9/dist-packages/merlin/io/dataset.py:254: UserWarning: Initializing an NVTabular Dataset in CPU mode.This is an experimental feature with extremely limited support!\n",
            "  warnings.warn(\n",
            "/usr/local/lib/python3.9/dist-packages/merlin/schema/tags.py:148: UserWarning: Compound tags like Tags.USER_ID have been deprecated and will be removed in a future version. Please use the atomic versions of these tags, like [<Tags.USER: 'user'>, <Tags.ID: 'id'>].\n",
            "  warnings.warn(\n",
            "/usr/local/lib/python3.9/dist-packages/merlin/schema/tags.py:148: UserWarning: Compound tags like Tags.ITEM_ID have been deprecated and will be removed in a future version. Please use the atomic versions of these tags, like [<Tags.ITEM: 'item'>, <Tags.ID: 'id'>].\n",
            "  warnings.warn(\n",
            "/usr/local/lib/python3.9/dist-packages/merlin/schema/tags.py:148: UserWarning: Compound tags like Tags.USER_ID have been deprecated and will be removed in a future version. Please use the atomic versions of these tags, like [<Tags.USER: 'user'>, <Tags.ID: 'id'>].\n",
            "  warnings.warn(\n",
            "/usr/local/lib/python3.9/dist-packages/merlin/schema/tags.py:148: UserWarning: Compound tags like Tags.ITEM_ID have been deprecated and will be removed in a future version. Please use the atomic versions of these tags, like [<Tags.ITEM: 'item'>, <Tags.ID: 'id'>].\n",
            "  warnings.warn(\n",
            "/usr/local/lib/python3.9/dist-packages/merlin/io/dataset.py:254: UserWarning: Initializing an NVTabular Dataset in CPU mode.This is an experimental feature with extremely limited support!\n",
            "  warnings.warn(\n",
            "/usr/local/lib/python3.9/dist-packages/merlin/schema/tags.py:148: UserWarning: Compound tags like Tags.USER_ID have been deprecated and will be removed in a future version. Please use the atomic versions of these tags, like [<Tags.USER: 'user'>, <Tags.ID: 'id'>].\n",
            "  warnings.warn(\n",
            "/usr/local/lib/python3.9/dist-packages/merlin/schema/tags.py:148: UserWarning: Compound tags like Tags.ITEM_ID have been deprecated and will be removed in a future version. Please use the atomic versions of these tags, like [<Tags.ITEM: 'item'>, <Tags.ID: 'id'>].\n",
            "  warnings.warn(\n",
            "/usr/local/lib/python3.9/dist-packages/merlin/schema/tags.py:148: UserWarning: Compound tags like Tags.USER_ID have been deprecated and will be removed in a future version. Please use the atomic versions of these tags, like [<Tags.USER: 'user'>, <Tags.ID: 'id'>].\n",
            "  warnings.warn(\n",
            "/usr/local/lib/python3.9/dist-packages/merlin/schema/tags.py:148: UserWarning: Compound tags like Tags.ITEM_ID have been deprecated and will be removed in a future version. Please use the atomic versions of these tags, like [<Tags.ITEM: 'item'>, <Tags.ID: 'id'>].\n",
            "  warnings.warn(\n"
          ]
        }
      ],
      "source": [
        "workflow = nvt.Workflow(user_id + item_id + rating)\n",
        "workflow.fit(train_dataset)\n",
        "workflow.transform(train_dataset).to_parquet(\"train\")\n",
        "workflow.transform(test_dataset).to_parquet(\"test\")"
      ]
    },
    {
      "cell_type": "code",
      "execution_count": 12,
      "metadata": {
        "id": "ZqkpgUmdKFpR",
        "colab": {
          "base_uri": "https://localhost:8080/"
        },
        "outputId": "a950b438-32fa-4edd-f24a-881e125bf568"
      },
      "outputs": [
        {
          "output_type": "stream",
          "name": "stderr",
          "text": [
            "/usr/local/lib/python3.9/dist-packages/merlin/io/dataset.py:254: UserWarning: Initializing an NVTabular Dataset in CPU mode.This is an experimental feature with extremely limited support!\n",
            "  warnings.warn(\n",
            "/usr/local/lib/python3.9/dist-packages/merlin/schema/tags.py:148: UserWarning: Compound tags like Tags.USER_ID have been deprecated and will be removed in a future version. Please use the atomic versions of these tags, like [<Tags.USER: 'user'>, <Tags.ID: 'id'>].\n",
            "  warnings.warn(\n",
            "/usr/local/lib/python3.9/dist-packages/merlin/schema/tags.py:148: UserWarning: Compound tags like Tags.ITEM_ID have been deprecated and will be removed in a future version. Please use the atomic versions of these tags, like [<Tags.ITEM: 'item'>, <Tags.ID: 'id'>].\n",
            "  warnings.warn(\n",
            "/usr/local/lib/python3.9/dist-packages/merlin/io/dataset.py:254: UserWarning: Initializing an NVTabular Dataset in CPU mode.This is an experimental feature with extremely limited support!\n",
            "  warnings.warn(\n",
            "/usr/local/lib/python3.9/dist-packages/merlin/schema/tags.py:148: UserWarning: Compound tags like Tags.USER_ID have been deprecated and will be removed in a future version. Please use the atomic versions of these tags, like [<Tags.USER: 'user'>, <Tags.ID: 'id'>].\n",
            "  warnings.warn(\n",
            "/usr/local/lib/python3.9/dist-packages/merlin/schema/tags.py:148: UserWarning: Compound tags like Tags.ITEM_ID have been deprecated and will be removed in a future version. Please use the atomic versions of these tags, like [<Tags.ITEM: 'item'>, <Tags.ID: 'id'>].\n",
            "  warnings.warn(\n"
          ]
        }
      ],
      "source": [
        "train_transformed = Dataset(\"train/*.parquet\", cpu=True)\n",
        "test_transformed = Dataset(\"test/*.parquet\", cpu=True)"
      ]
    },
    {
      "cell_type": "markdown",
      "metadata": {
        "id": "XCobstrDNFJg"
      },
      "source": [
        "# 7 - Treinando"
      ]
    },
    {
      "cell_type": "code",
      "execution_count": 48,
      "metadata": {
        "id": "OaPGZ1BZvFnZ",
        "colab": {
          "base_uri": "https://localhost:8080/",
          "height": 49,
          "referenced_widgets": [
            "866f2b990001414ea187b50583f58971",
            "609e404e1dcd44c9a5183ed7fe48e8c2",
            "6f9fa80083bb4b5bbdad433c23bad916",
            "e27e74cb1dd54825918cfce22cc71e12",
            "ed595a84ad7c473395ebb45bcb607f46",
            "e96e6ac523274427a5dc5885a2496282",
            "93d6750f26924860aa709213bbbd9f69",
            "bd566335e8324de894302e69892d7dfd",
            "19801cb6d5d34ec885daf178d6281a95",
            "0cc0ec1f47994c7e83a5dc1daca35241",
            "fd27dc7e52c24ace9bce99515859900a"
          ]
        },
        "outputId": "39ae852f-d4e6-4d1f-a1c2-88a5336ed1ae"
      },
      "outputs": [
        {
          "output_type": "display_data",
          "data": {
            "text/plain": [
              "  0%|          | 0/500 [00:00<?, ?it/s]"
            ],
            "application/vnd.jupyter.widget-view+json": {
              "version_major": 2,
              "version_minor": 0,
              "model_id": "866f2b990001414ea187b50583f58971"
            }
          },
          "metadata": {}
        }
      ],
      "source": [
        "als = AlternatingLeastSquaresWithRecall(\n",
        "    regularization=0.01, \n",
        "    iterations=500, \n",
        "    factors=1,\n",
        "    use_gpu=False\n",
        "  )\n",
        "als.fit(train_transformed)"
      ]
    },
    {
      "cell_type": "markdown",
      "metadata": {
        "id": "w2pDdSmWZhUN"
      },
      "source": [
        "# 8 - Avaliando"
      ]
    },
    {
      "cell_type": "code",
      "execution_count": 49,
      "metadata": {
        "id": "6VdbLOLHJ8md",
        "colab": {
          "base_uri": "https://localhost:8080/",
          "height": 136,
          "referenced_widgets": [
            "1a971b058edc4792af110aa506929435",
            "4fe38d4ef2ac475e851acd3057815248",
            "e02aca37bbab4a78a6a89fbcefdc23be",
            "2a5303446c864ad4a6289ff118a4d769",
            "36b3ba1a5cd04b36a9a38806191f5fdf",
            "2c439f52f5074dcc901ea7cae6fc4ebe",
            "3263a3c0a70e42d5a13cfcbdb40f6218",
            "c2e5ba47367145b4af3c24657be551d4",
            "c54f01f1fbb347fbb57e0a1a0894225f",
            "358ae8010b154918a70828f7d908d40b",
            "5dc4cdc06c9747e6a7cf3f39574aceef"
          ]
        },
        "outputId": "5235758e-65ba-40b8-d0ba-13d451b38a16"
      },
      "outputs": [
        {
          "output_type": "display_data",
          "data": {
            "text/plain": [
              "  0%|          | 0/3052 [00:00<?, ?it/s]"
            ],
            "application/vnd.jupyter.widget-view+json": {
              "version_major": 2,
              "version_minor": 0,
              "model_id": "1a971b058edc4792af110aa506929435"
            }
          },
          "metadata": {}
        },
        {
          "output_type": "stream",
          "name": "stdout",
          "text": [
            "0,16616973921807415\n",
            "0,08123073025688593\n",
            "0,159711217046873\n",
            "0,5449862401002272\n",
            "0,033964958950927965\n"
          ]
        }
      ],
      "source": [
        "implicit_metrics = als.evaluate_recall(test_transformed)\n",
        "#implicit_metrics['precision@10']\n",
        "print(str(implicit_metrics['precision@10']).replace('.',','))\n",
        "print(str(implicit_metrics['map@10']).replace('.',','))\n",
        "print(str(implicit_metrics['ndcg@10']).replace('.',','))\n",
        "print(str(implicit_metrics['auc@10']).replace('.',','))\n",
        "print(str(implicit_metrics['recall@10']).replace('.',','))"
      ]
    },
    {
      "cell_type": "code",
      "source": [
        "str(implicit_metrics['precision@10']).replace('.',',')\n",
        "str(implicit_metrics['precision@10']).replace('.',',')\n",
        "str(implicit_metrics['precision@10']).replace('.',',')\n",
        "str(implicit_metrics['precision@10']).replace('.',',')\n",
        "str(implicit_metrics['precision@10']).replace('.',',')"
      ],
      "metadata": {
        "colab": {
          "base_uri": "https://localhost:8080/",
          "height": 35
        },
        "id": "gp_Ns-WHuGm0",
        "outputId": "08e2e090-721c-4804-a70f-d317b5c2345a"
      },
      "execution_count": 35,
      "outputs": [
        {
          "output_type": "execute_result",
          "data": {
            "text/plain": [
              "'0,14122538109436023'"
            ],
            "application/vnd.google.colaboratory.intrinsic+json": {
              "type": "string"
            }
          },
          "metadata": {},
          "execution_count": 35
        }
      ]
    },
    {
      "cell_type": "markdown",
      "metadata": {
        "id": "uDPuQ2QJpGZl"
      },
      "source": [
        "## 8.1 - Recomendações"
      ]
    },
    {
      "cell_type": "code",
      "execution_count": 15,
      "metadata": {
        "id": "ZkldPzhHJrpT",
        "colab": {
          "base_uri": "https://localhost:8080/"
        },
        "outputId": "9548caf6-af5b-4c84-d52f-af074d656387"
      },
      "outputs": [
        {
          "output_type": "execute_result",
          "data": {
            "text/plain": [
              "(array([[  55,   64,  132, ..., 2394,   43,   67],\n",
              "        [  64,  808, 2324, ..., 2197,   27,  124],\n",
              "        [ 132,  808,   55, ..., 4734, 1335, 2827],\n",
              "        ...,\n",
              "        [ 132,  808, 2987, ..., 2826, 4734,  143],\n",
              "        [  64,   53, 2394, ...,  124,   55,  123],\n",
              "        [ 132, 1481,  104, ..., 1708, 1335, 4175]], dtype=int32),\n",
              " array([[1.0892866 , 0.91634655, 0.8530601 , ..., 0.59813535, 0.5195755 ,\n",
              "         0.4964165 ],\n",
              "        [1.1415347 , 1.0167503 , 0.9866061 , ..., 0.4640938 , 0.44567838,\n",
              "         0.40908796],\n",
              "        [1.1846325 , 1.0166354 , 0.94950193, ..., 0.61257565, 0.49405628,\n",
              "         0.42708987],\n",
              "        ...,\n",
              "        [1.1472728 , 0.8665628 , 0.56467664, ..., 0.23135678, 0.2275287 ,\n",
              "         0.21766175],\n",
              "        [1.1701132 , 0.88943326, 0.59647113, ..., 0.31736323, 0.25851795,\n",
              "         0.20945928],\n",
              "        [0.9360261 , 0.26666456, 0.18899934, ..., 0.13405505, 0.12040887,\n",
              "         0.10470951]], dtype=float32))"
            ]
          },
          "metadata": {},
          "execution_count": 15
        }
      ],
      "source": [
        "implicit_preds = als.predict(test_transformed)\n",
        "implicit_preds"
      ]
    },
    {
      "cell_type": "markdown",
      "metadata": {
        "id": "UAyJraLEZdpp"
      },
      "source": [
        "## 8.2 - Teste usuário 17"
      ]
    },
    {
      "cell_type": "code",
      "execution_count": 16,
      "metadata": {
        "id": "qHk6hfGaNOFa",
        "colab": {
          "base_uri": "https://localhost:8080/"
        },
        "outputId": "86ca4151-8eae-4d42-bf5f-e513a14f0a27"
      },
      "outputs": [
        {
          "output_type": "stream",
          "name": "stderr",
          "text": [
            "/usr/local/lib/python3.9/dist-packages/merlin/io/dataset.py:254: UserWarning: Initializing an NVTabular Dataset in CPU mode.This is an experimental feature with extremely limited support!\n",
            "  warnings.warn(\n",
            "/usr/local/lib/python3.9/dist-packages/merlin/schema/tags.py:148: UserWarning: Compound tags like Tags.USER_ID have been deprecated and will be removed in a future version. Please use the atomic versions of these tags, like [<Tags.USER: 'user'>, <Tags.ID: 'id'>].\n",
            "  warnings.warn(\n",
            "/usr/local/lib/python3.9/dist-packages/merlin/schema/tags.py:148: UserWarning: Compound tags like Tags.ITEM_ID have been deprecated and will be removed in a future version. Please use the atomic versions of these tags, like [<Tags.ITEM: 'item'>, <Tags.ID: 'id'>].\n",
            "  warnings.warn(\n"
          ]
        }
      ],
      "source": [
        "filter = [(\"user_id\", \"in\", [17])]\n",
        "user_predicted = als.predict(Dataset(\"test/*.parquet\", cpu=True, filters=filter))"
      ]
    },
    {
      "cell_type": "code",
      "execution_count": 17,
      "metadata": {
        "id": "rRCzZ-ioGImu",
        "colab": {
          "base_uri": "https://localhost:8080/"
        },
        "outputId": "a27b5bdd-c483-4f3e-b113-884346312e32"
      },
      "outputs": [
        {
          "output_type": "execute_result",
          "data": {
            "text/plain": [
              "array([[  64,  123,   53, 2324, 2394,  132,   27,   49,   65, 2197]],\n",
              "      dtype=int32)"
            ]
          },
          "metadata": {},
          "execution_count": 17
        }
      ],
      "source": [
        "user_predicted[0]"
      ]
    },
    {
      "cell_type": "code",
      "execution_count": 18,
      "metadata": {
        "id": "mlUWyCqOFJH4",
        "colab": {
          "base_uri": "https://localhost:8080/"
        },
        "outputId": "80eb45a8-a940-4919-9a59-4bb23486e5a1"
      },
      "outputs": [
        {
          "output_type": "execute_result",
          "data": {
            "text/plain": [
              "array([[1.235002  , 1.1161202 , 1.0595841 , 0.85338044, 0.769241  ,\n",
              "        0.7003355 , 0.6938758 , 0.6325807 , 0.5475798 , 0.52864856]],\n",
              "      dtype=float32)"
            ]
          },
          "metadata": {},
          "execution_count": 18
        }
      ],
      "source": [
        "user_predicted[1]"
      ]
    },
    {
      "cell_type": "code",
      "execution_count": 19,
      "metadata": {
        "id": "3YQabEtNNf2o",
        "colab": {
          "base_uri": "https://localhost:8080/",
          "height": 363
        },
        "outputId": "75d0892f-0088-41f7-b184-6bb0906ab4d6"
      },
      "outputs": [
        {
          "output_type": "execute_result",
          "data": {
            "text/plain": [
              "   user_id  item_id    rating\n",
              "0       17       64  1.235002\n",
              "1       17      123  1.116120\n",
              "2       17       53  1.059584\n",
              "3       17     2324  0.853380\n",
              "4       17     2394  0.769241\n",
              "5       17      132  0.700336\n",
              "6       17       27  0.693876\n",
              "7       17       49  0.632581\n",
              "8       17       65  0.547580\n",
              "9       17     2197  0.528649"
            ],
            "text/html": [
              "\n",
              "  <div id=\"df-89d82adb-787e-4602-93ab-5adc9da80d43\">\n",
              "    <div class=\"colab-df-container\">\n",
              "      <div>\n",
              "<style scoped>\n",
              "    .dataframe tbody tr th:only-of-type {\n",
              "        vertical-align: middle;\n",
              "    }\n",
              "\n",
              "    .dataframe tbody tr th {\n",
              "        vertical-align: top;\n",
              "    }\n",
              "\n",
              "    .dataframe thead th {\n",
              "        text-align: right;\n",
              "    }\n",
              "</style>\n",
              "<table border=\"1\" class=\"dataframe\">\n",
              "  <thead>\n",
              "    <tr style=\"text-align: right;\">\n",
              "      <th></th>\n",
              "      <th>user_id</th>\n",
              "      <th>item_id</th>\n",
              "      <th>rating</th>\n",
              "    </tr>\n",
              "  </thead>\n",
              "  <tbody>\n",
              "    <tr>\n",
              "      <th>0</th>\n",
              "      <td>17</td>\n",
              "      <td>64</td>\n",
              "      <td>1.235002</td>\n",
              "    </tr>\n",
              "    <tr>\n",
              "      <th>1</th>\n",
              "      <td>17</td>\n",
              "      <td>123</td>\n",
              "      <td>1.116120</td>\n",
              "    </tr>\n",
              "    <tr>\n",
              "      <th>2</th>\n",
              "      <td>17</td>\n",
              "      <td>53</td>\n",
              "      <td>1.059584</td>\n",
              "    </tr>\n",
              "    <tr>\n",
              "      <th>3</th>\n",
              "      <td>17</td>\n",
              "      <td>2324</td>\n",
              "      <td>0.853380</td>\n",
              "    </tr>\n",
              "    <tr>\n",
              "      <th>4</th>\n",
              "      <td>17</td>\n",
              "      <td>2394</td>\n",
              "      <td>0.769241</td>\n",
              "    </tr>\n",
              "    <tr>\n",
              "      <th>5</th>\n",
              "      <td>17</td>\n",
              "      <td>132</td>\n",
              "      <td>0.700336</td>\n",
              "    </tr>\n",
              "    <tr>\n",
              "      <th>6</th>\n",
              "      <td>17</td>\n",
              "      <td>27</td>\n",
              "      <td>0.693876</td>\n",
              "    </tr>\n",
              "    <tr>\n",
              "      <th>7</th>\n",
              "      <td>17</td>\n",
              "      <td>49</td>\n",
              "      <td>0.632581</td>\n",
              "    </tr>\n",
              "    <tr>\n",
              "      <th>8</th>\n",
              "      <td>17</td>\n",
              "      <td>65</td>\n",
              "      <td>0.547580</td>\n",
              "    </tr>\n",
              "    <tr>\n",
              "      <th>9</th>\n",
              "      <td>17</td>\n",
              "      <td>2197</td>\n",
              "      <td>0.528649</td>\n",
              "    </tr>\n",
              "  </tbody>\n",
              "</table>\n",
              "</div>\n",
              "      <button class=\"colab-df-convert\" onclick=\"convertToInteractive('df-89d82adb-787e-4602-93ab-5adc9da80d43')\"\n",
              "              title=\"Convert this dataframe to an interactive table.\"\n",
              "              style=\"display:none;\">\n",
              "        \n",
              "  <svg xmlns=\"http://www.w3.org/2000/svg\" height=\"24px\"viewBox=\"0 0 24 24\"\n",
              "       width=\"24px\">\n",
              "    <path d=\"M0 0h24v24H0V0z\" fill=\"none\"/>\n",
              "    <path d=\"M18.56 5.44l.94 2.06.94-2.06 2.06-.94-2.06-.94-.94-2.06-.94 2.06-2.06.94zm-11 1L8.5 8.5l.94-2.06 2.06-.94-2.06-.94L8.5 2.5l-.94 2.06-2.06.94zm10 10l.94 2.06.94-2.06 2.06-.94-2.06-.94-.94-2.06-.94 2.06-2.06.94z\"/><path d=\"M17.41 7.96l-1.37-1.37c-.4-.4-.92-.59-1.43-.59-.52 0-1.04.2-1.43.59L10.3 9.45l-7.72 7.72c-.78.78-.78 2.05 0 2.83L4 21.41c.39.39.9.59 1.41.59.51 0 1.02-.2 1.41-.59l7.78-7.78 2.81-2.81c.8-.78.8-2.07 0-2.86zM5.41 20L4 18.59l7.72-7.72 1.47 1.35L5.41 20z\"/>\n",
              "  </svg>\n",
              "      </button>\n",
              "      \n",
              "  <style>\n",
              "    .colab-df-container {\n",
              "      display:flex;\n",
              "      flex-wrap:wrap;\n",
              "      gap: 12px;\n",
              "    }\n",
              "\n",
              "    .colab-df-convert {\n",
              "      background-color: #E8F0FE;\n",
              "      border: none;\n",
              "      border-radius: 50%;\n",
              "      cursor: pointer;\n",
              "      display: none;\n",
              "      fill: #1967D2;\n",
              "      height: 32px;\n",
              "      padding: 0 0 0 0;\n",
              "      width: 32px;\n",
              "    }\n",
              "\n",
              "    .colab-df-convert:hover {\n",
              "      background-color: #E2EBFA;\n",
              "      box-shadow: 0px 1px 2px rgba(60, 64, 67, 0.3), 0px 1px 3px 1px rgba(60, 64, 67, 0.15);\n",
              "      fill: #174EA6;\n",
              "    }\n",
              "\n",
              "    [theme=dark] .colab-df-convert {\n",
              "      background-color: #3B4455;\n",
              "      fill: #D2E3FC;\n",
              "    }\n",
              "\n",
              "    [theme=dark] .colab-df-convert:hover {\n",
              "      background-color: #434B5C;\n",
              "      box-shadow: 0px 1px 3px 1px rgba(0, 0, 0, 0.15);\n",
              "      filter: drop-shadow(0px 1px 2px rgba(0, 0, 0, 0.3));\n",
              "      fill: #FFFFFF;\n",
              "    }\n",
              "  </style>\n",
              "\n",
              "      <script>\n",
              "        const buttonEl =\n",
              "          document.querySelector('#df-89d82adb-787e-4602-93ab-5adc9da80d43 button.colab-df-convert');\n",
              "        buttonEl.style.display =\n",
              "          google.colab.kernel.accessAllowed ? 'block' : 'none';\n",
              "\n",
              "        async function convertToInteractive(key) {\n",
              "          const element = document.querySelector('#df-89d82adb-787e-4602-93ab-5adc9da80d43');\n",
              "          const dataTable =\n",
              "            await google.colab.kernel.invokeFunction('convertToInteractive',\n",
              "                                                     [key], {});\n",
              "          if (!dataTable) return;\n",
              "\n",
              "          const docLinkHtml = 'Like what you see? Visit the ' +\n",
              "            '<a target=\"_blank\" href=https://colab.research.google.com/notebooks/data_table.ipynb>data table notebook</a>'\n",
              "            + ' to learn more about interactive tables.';\n",
              "          element.innerHTML = '';\n",
              "          dataTable['output_type'] = 'display_data';\n",
              "          await google.colab.output.renderOutput(dataTable, element);\n",
              "          const docLink = document.createElement('div');\n",
              "          docLink.innerHTML = docLinkHtml;\n",
              "          element.appendChild(docLink);\n",
              "        }\n",
              "      </script>\n",
              "    </div>\n",
              "  </div>\n",
              "  "
            ]
          },
          "metadata": {},
          "execution_count": 19
        }
      ],
      "source": [
        "import pandas as pd\n",
        "pd.DataFrame({'user_id': 17, 'item_id': user_predicted[0][0], 'rating' : user_predicted[1][0]})"
      ]
    }
  ],
  "metadata": {
    "colab": {
      "provenance": []
    },
    "gpuClass": "standard",
    "kernelspec": {
      "display_name": "Python 3.8.10 64-bit",
      "language": "python",
      "name": "python3"
    },
    "language_info": {
      "codemirror_mode": {
        "name": "ipython",
        "version": 3
      },
      "file_extension": ".py",
      "mimetype": "text/x-python",
      "name": "python",
      "nbconvert_exporter": "python",
      "pygments_lexer": "ipython3",
      "version": "3.8.10"
    },
    "vscode": {
      "interpreter": {
        "hash": "916dbcbb3f70747c44a77c7bcd40155683ae19c65e1c03b4aa3499c5328201f1"
      }
    },
    "widgets": {
      "application/vnd.jupyter.widget-state+json": {
        "866f2b990001414ea187b50583f58971": {
          "model_module": "@jupyter-widgets/controls",
          "model_name": "HBoxModel",
          "model_module_version": "1.5.0",
          "state": {
            "_dom_classes": [],
            "_model_module": "@jupyter-widgets/controls",
            "_model_module_version": "1.5.0",
            "_model_name": "HBoxModel",
            "_view_count": null,
            "_view_module": "@jupyter-widgets/controls",
            "_view_module_version": "1.5.0",
            "_view_name": "HBoxView",
            "box_style": "",
            "children": [
              "IPY_MODEL_609e404e1dcd44c9a5183ed7fe48e8c2",
              "IPY_MODEL_6f9fa80083bb4b5bbdad433c23bad916",
              "IPY_MODEL_e27e74cb1dd54825918cfce22cc71e12"
            ],
            "layout": "IPY_MODEL_ed595a84ad7c473395ebb45bcb607f46"
          }
        },
        "609e404e1dcd44c9a5183ed7fe48e8c2": {
          "model_module": "@jupyter-widgets/controls",
          "model_name": "HTMLModel",
          "model_module_version": "1.5.0",
          "state": {
            "_dom_classes": [],
            "_model_module": "@jupyter-widgets/controls",
            "_model_module_version": "1.5.0",
            "_model_name": "HTMLModel",
            "_view_count": null,
            "_view_module": "@jupyter-widgets/controls",
            "_view_module_version": "1.5.0",
            "_view_name": "HTMLView",
            "description": "",
            "description_tooltip": null,
            "layout": "IPY_MODEL_e96e6ac523274427a5dc5885a2496282",
            "placeholder": "​",
            "style": "IPY_MODEL_93d6750f26924860aa709213bbbd9f69",
            "value": "100%"
          }
        },
        "6f9fa80083bb4b5bbdad433c23bad916": {
          "model_module": "@jupyter-widgets/controls",
          "model_name": "FloatProgressModel",
          "model_module_version": "1.5.0",
          "state": {
            "_dom_classes": [],
            "_model_module": "@jupyter-widgets/controls",
            "_model_module_version": "1.5.0",
            "_model_name": "FloatProgressModel",
            "_view_count": null,
            "_view_module": "@jupyter-widgets/controls",
            "_view_module_version": "1.5.0",
            "_view_name": "ProgressView",
            "bar_style": "success",
            "description": "",
            "description_tooltip": null,
            "layout": "IPY_MODEL_bd566335e8324de894302e69892d7dfd",
            "max": 500,
            "min": 0,
            "orientation": "horizontal",
            "style": "IPY_MODEL_19801cb6d5d34ec885daf178d6281a95",
            "value": 500
          }
        },
        "e27e74cb1dd54825918cfce22cc71e12": {
          "model_module": "@jupyter-widgets/controls",
          "model_name": "HTMLModel",
          "model_module_version": "1.5.0",
          "state": {
            "_dom_classes": [],
            "_model_module": "@jupyter-widgets/controls",
            "_model_module_version": "1.5.0",
            "_model_name": "HTMLModel",
            "_view_count": null,
            "_view_module": "@jupyter-widgets/controls",
            "_view_module_version": "1.5.0",
            "_view_name": "HTMLView",
            "description": "",
            "description_tooltip": null,
            "layout": "IPY_MODEL_0cc0ec1f47994c7e83a5dc1daca35241",
            "placeholder": "​",
            "style": "IPY_MODEL_fd27dc7e52c24ace9bce99515859900a",
            "value": " 500/500 [00:11&lt;00:00, 28.53it/s]"
          }
        },
        "ed595a84ad7c473395ebb45bcb607f46": {
          "model_module": "@jupyter-widgets/base",
          "model_name": "LayoutModel",
          "model_module_version": "1.2.0",
          "state": {
            "_model_module": "@jupyter-widgets/base",
            "_model_module_version": "1.2.0",
            "_model_name": "LayoutModel",
            "_view_count": null,
            "_view_module": "@jupyter-widgets/base",
            "_view_module_version": "1.2.0",
            "_view_name": "LayoutView",
            "align_content": null,
            "align_items": null,
            "align_self": null,
            "border": null,
            "bottom": null,
            "display": null,
            "flex": null,
            "flex_flow": null,
            "grid_area": null,
            "grid_auto_columns": null,
            "grid_auto_flow": null,
            "grid_auto_rows": null,
            "grid_column": null,
            "grid_gap": null,
            "grid_row": null,
            "grid_template_areas": null,
            "grid_template_columns": null,
            "grid_template_rows": null,
            "height": null,
            "justify_content": null,
            "justify_items": null,
            "left": null,
            "margin": null,
            "max_height": null,
            "max_width": null,
            "min_height": null,
            "min_width": null,
            "object_fit": null,
            "object_position": null,
            "order": null,
            "overflow": null,
            "overflow_x": null,
            "overflow_y": null,
            "padding": null,
            "right": null,
            "top": null,
            "visibility": null,
            "width": null
          }
        },
        "e96e6ac523274427a5dc5885a2496282": {
          "model_module": "@jupyter-widgets/base",
          "model_name": "LayoutModel",
          "model_module_version": "1.2.0",
          "state": {
            "_model_module": "@jupyter-widgets/base",
            "_model_module_version": "1.2.0",
            "_model_name": "LayoutModel",
            "_view_count": null,
            "_view_module": "@jupyter-widgets/base",
            "_view_module_version": "1.2.0",
            "_view_name": "LayoutView",
            "align_content": null,
            "align_items": null,
            "align_self": null,
            "border": null,
            "bottom": null,
            "display": null,
            "flex": null,
            "flex_flow": null,
            "grid_area": null,
            "grid_auto_columns": null,
            "grid_auto_flow": null,
            "grid_auto_rows": null,
            "grid_column": null,
            "grid_gap": null,
            "grid_row": null,
            "grid_template_areas": null,
            "grid_template_columns": null,
            "grid_template_rows": null,
            "height": null,
            "justify_content": null,
            "justify_items": null,
            "left": null,
            "margin": null,
            "max_height": null,
            "max_width": null,
            "min_height": null,
            "min_width": null,
            "object_fit": null,
            "object_position": null,
            "order": null,
            "overflow": null,
            "overflow_x": null,
            "overflow_y": null,
            "padding": null,
            "right": null,
            "top": null,
            "visibility": null,
            "width": null
          }
        },
        "93d6750f26924860aa709213bbbd9f69": {
          "model_module": "@jupyter-widgets/controls",
          "model_name": "DescriptionStyleModel",
          "model_module_version": "1.5.0",
          "state": {
            "_model_module": "@jupyter-widgets/controls",
            "_model_module_version": "1.5.0",
            "_model_name": "DescriptionStyleModel",
            "_view_count": null,
            "_view_module": "@jupyter-widgets/base",
            "_view_module_version": "1.2.0",
            "_view_name": "StyleView",
            "description_width": ""
          }
        },
        "bd566335e8324de894302e69892d7dfd": {
          "model_module": "@jupyter-widgets/base",
          "model_name": "LayoutModel",
          "model_module_version": "1.2.0",
          "state": {
            "_model_module": "@jupyter-widgets/base",
            "_model_module_version": "1.2.0",
            "_model_name": "LayoutModel",
            "_view_count": null,
            "_view_module": "@jupyter-widgets/base",
            "_view_module_version": "1.2.0",
            "_view_name": "LayoutView",
            "align_content": null,
            "align_items": null,
            "align_self": null,
            "border": null,
            "bottom": null,
            "display": null,
            "flex": null,
            "flex_flow": null,
            "grid_area": null,
            "grid_auto_columns": null,
            "grid_auto_flow": null,
            "grid_auto_rows": null,
            "grid_column": null,
            "grid_gap": null,
            "grid_row": null,
            "grid_template_areas": null,
            "grid_template_columns": null,
            "grid_template_rows": null,
            "height": null,
            "justify_content": null,
            "justify_items": null,
            "left": null,
            "margin": null,
            "max_height": null,
            "max_width": null,
            "min_height": null,
            "min_width": null,
            "object_fit": null,
            "object_position": null,
            "order": null,
            "overflow": null,
            "overflow_x": null,
            "overflow_y": null,
            "padding": null,
            "right": null,
            "top": null,
            "visibility": null,
            "width": null
          }
        },
        "19801cb6d5d34ec885daf178d6281a95": {
          "model_module": "@jupyter-widgets/controls",
          "model_name": "ProgressStyleModel",
          "model_module_version": "1.5.0",
          "state": {
            "_model_module": "@jupyter-widgets/controls",
            "_model_module_version": "1.5.0",
            "_model_name": "ProgressStyleModel",
            "_view_count": null,
            "_view_module": "@jupyter-widgets/base",
            "_view_module_version": "1.2.0",
            "_view_name": "StyleView",
            "bar_color": null,
            "description_width": ""
          }
        },
        "0cc0ec1f47994c7e83a5dc1daca35241": {
          "model_module": "@jupyter-widgets/base",
          "model_name": "LayoutModel",
          "model_module_version": "1.2.0",
          "state": {
            "_model_module": "@jupyter-widgets/base",
            "_model_module_version": "1.2.0",
            "_model_name": "LayoutModel",
            "_view_count": null,
            "_view_module": "@jupyter-widgets/base",
            "_view_module_version": "1.2.0",
            "_view_name": "LayoutView",
            "align_content": null,
            "align_items": null,
            "align_self": null,
            "border": null,
            "bottom": null,
            "display": null,
            "flex": null,
            "flex_flow": null,
            "grid_area": null,
            "grid_auto_columns": null,
            "grid_auto_flow": null,
            "grid_auto_rows": null,
            "grid_column": null,
            "grid_gap": null,
            "grid_row": null,
            "grid_template_areas": null,
            "grid_template_columns": null,
            "grid_template_rows": null,
            "height": null,
            "justify_content": null,
            "justify_items": null,
            "left": null,
            "margin": null,
            "max_height": null,
            "max_width": null,
            "min_height": null,
            "min_width": null,
            "object_fit": null,
            "object_position": null,
            "order": null,
            "overflow": null,
            "overflow_x": null,
            "overflow_y": null,
            "padding": null,
            "right": null,
            "top": null,
            "visibility": null,
            "width": null
          }
        },
        "fd27dc7e52c24ace9bce99515859900a": {
          "model_module": "@jupyter-widgets/controls",
          "model_name": "DescriptionStyleModel",
          "model_module_version": "1.5.0",
          "state": {
            "_model_module": "@jupyter-widgets/controls",
            "_model_module_version": "1.5.0",
            "_model_name": "DescriptionStyleModel",
            "_view_count": null,
            "_view_module": "@jupyter-widgets/base",
            "_view_module_version": "1.2.0",
            "_view_name": "StyleView",
            "description_width": ""
          }
        },
        "1a971b058edc4792af110aa506929435": {
          "model_module": "@jupyter-widgets/controls",
          "model_name": "HBoxModel",
          "model_module_version": "1.5.0",
          "state": {
            "_dom_classes": [],
            "_model_module": "@jupyter-widgets/controls",
            "_model_module_version": "1.5.0",
            "_model_name": "HBoxModel",
            "_view_count": null,
            "_view_module": "@jupyter-widgets/controls",
            "_view_module_version": "1.5.0",
            "_view_name": "HBoxView",
            "box_style": "",
            "children": [
              "IPY_MODEL_4fe38d4ef2ac475e851acd3057815248",
              "IPY_MODEL_e02aca37bbab4a78a6a89fbcefdc23be",
              "IPY_MODEL_2a5303446c864ad4a6289ff118a4d769"
            ],
            "layout": "IPY_MODEL_36b3ba1a5cd04b36a9a38806191f5fdf"
          }
        },
        "4fe38d4ef2ac475e851acd3057815248": {
          "model_module": "@jupyter-widgets/controls",
          "model_name": "HTMLModel",
          "model_module_version": "1.5.0",
          "state": {
            "_dom_classes": [],
            "_model_module": "@jupyter-widgets/controls",
            "_model_module_version": "1.5.0",
            "_model_name": "HTMLModel",
            "_view_count": null,
            "_view_module": "@jupyter-widgets/controls",
            "_view_module_version": "1.5.0",
            "_view_name": "HTMLView",
            "description": "",
            "description_tooltip": null,
            "layout": "IPY_MODEL_2c439f52f5074dcc901ea7cae6fc4ebe",
            "placeholder": "​",
            "style": "IPY_MODEL_3263a3c0a70e42d5a13cfcbdb40f6218",
            "value": "100%"
          }
        },
        "e02aca37bbab4a78a6a89fbcefdc23be": {
          "model_module": "@jupyter-widgets/controls",
          "model_name": "FloatProgressModel",
          "model_module_version": "1.5.0",
          "state": {
            "_dom_classes": [],
            "_model_module": "@jupyter-widgets/controls",
            "_model_module_version": "1.5.0",
            "_model_name": "FloatProgressModel",
            "_view_count": null,
            "_view_module": "@jupyter-widgets/controls",
            "_view_module_version": "1.5.0",
            "_view_name": "ProgressView",
            "bar_style": "success",
            "description": "",
            "description_tooltip": null,
            "layout": "IPY_MODEL_c2e5ba47367145b4af3c24657be551d4",
            "max": 3052,
            "min": 0,
            "orientation": "horizontal",
            "style": "IPY_MODEL_c54f01f1fbb347fbb57e0a1a0894225f",
            "value": 3052
          }
        },
        "2a5303446c864ad4a6289ff118a4d769": {
          "model_module": "@jupyter-widgets/controls",
          "model_name": "HTMLModel",
          "model_module_version": "1.5.0",
          "state": {
            "_dom_classes": [],
            "_model_module": "@jupyter-widgets/controls",
            "_model_module_version": "1.5.0",
            "_model_name": "HTMLModel",
            "_view_count": null,
            "_view_module": "@jupyter-widgets/controls",
            "_view_module_version": "1.5.0",
            "_view_name": "HTMLView",
            "description": "",
            "description_tooltip": null,
            "layout": "IPY_MODEL_358ae8010b154918a70828f7d908d40b",
            "placeholder": "​",
            "style": "IPY_MODEL_5dc4cdc06c9747e6a7cf3f39574aceef",
            "value": " 3052/3052 [00:03&lt;00:00, 1000.39it/s]"
          }
        },
        "36b3ba1a5cd04b36a9a38806191f5fdf": {
          "model_module": "@jupyter-widgets/base",
          "model_name": "LayoutModel",
          "model_module_version": "1.2.0",
          "state": {
            "_model_module": "@jupyter-widgets/base",
            "_model_module_version": "1.2.0",
            "_model_name": "LayoutModel",
            "_view_count": null,
            "_view_module": "@jupyter-widgets/base",
            "_view_module_version": "1.2.0",
            "_view_name": "LayoutView",
            "align_content": null,
            "align_items": null,
            "align_self": null,
            "border": null,
            "bottom": null,
            "display": null,
            "flex": null,
            "flex_flow": null,
            "grid_area": null,
            "grid_auto_columns": null,
            "grid_auto_flow": null,
            "grid_auto_rows": null,
            "grid_column": null,
            "grid_gap": null,
            "grid_row": null,
            "grid_template_areas": null,
            "grid_template_columns": null,
            "grid_template_rows": null,
            "height": null,
            "justify_content": null,
            "justify_items": null,
            "left": null,
            "margin": null,
            "max_height": null,
            "max_width": null,
            "min_height": null,
            "min_width": null,
            "object_fit": null,
            "object_position": null,
            "order": null,
            "overflow": null,
            "overflow_x": null,
            "overflow_y": null,
            "padding": null,
            "right": null,
            "top": null,
            "visibility": null,
            "width": null
          }
        },
        "2c439f52f5074dcc901ea7cae6fc4ebe": {
          "model_module": "@jupyter-widgets/base",
          "model_name": "LayoutModel",
          "model_module_version": "1.2.0",
          "state": {
            "_model_module": "@jupyter-widgets/base",
            "_model_module_version": "1.2.0",
            "_model_name": "LayoutModel",
            "_view_count": null,
            "_view_module": "@jupyter-widgets/base",
            "_view_module_version": "1.2.0",
            "_view_name": "LayoutView",
            "align_content": null,
            "align_items": null,
            "align_self": null,
            "border": null,
            "bottom": null,
            "display": null,
            "flex": null,
            "flex_flow": null,
            "grid_area": null,
            "grid_auto_columns": null,
            "grid_auto_flow": null,
            "grid_auto_rows": null,
            "grid_column": null,
            "grid_gap": null,
            "grid_row": null,
            "grid_template_areas": null,
            "grid_template_columns": null,
            "grid_template_rows": null,
            "height": null,
            "justify_content": null,
            "justify_items": null,
            "left": null,
            "margin": null,
            "max_height": null,
            "max_width": null,
            "min_height": null,
            "min_width": null,
            "object_fit": null,
            "object_position": null,
            "order": null,
            "overflow": null,
            "overflow_x": null,
            "overflow_y": null,
            "padding": null,
            "right": null,
            "top": null,
            "visibility": null,
            "width": null
          }
        },
        "3263a3c0a70e42d5a13cfcbdb40f6218": {
          "model_module": "@jupyter-widgets/controls",
          "model_name": "DescriptionStyleModel",
          "model_module_version": "1.5.0",
          "state": {
            "_model_module": "@jupyter-widgets/controls",
            "_model_module_version": "1.5.0",
            "_model_name": "DescriptionStyleModel",
            "_view_count": null,
            "_view_module": "@jupyter-widgets/base",
            "_view_module_version": "1.2.0",
            "_view_name": "StyleView",
            "description_width": ""
          }
        },
        "c2e5ba47367145b4af3c24657be551d4": {
          "model_module": "@jupyter-widgets/base",
          "model_name": "LayoutModel",
          "model_module_version": "1.2.0",
          "state": {
            "_model_module": "@jupyter-widgets/base",
            "_model_module_version": "1.2.0",
            "_model_name": "LayoutModel",
            "_view_count": null,
            "_view_module": "@jupyter-widgets/base",
            "_view_module_version": "1.2.0",
            "_view_name": "LayoutView",
            "align_content": null,
            "align_items": null,
            "align_self": null,
            "border": null,
            "bottom": null,
            "display": null,
            "flex": null,
            "flex_flow": null,
            "grid_area": null,
            "grid_auto_columns": null,
            "grid_auto_flow": null,
            "grid_auto_rows": null,
            "grid_column": null,
            "grid_gap": null,
            "grid_row": null,
            "grid_template_areas": null,
            "grid_template_columns": null,
            "grid_template_rows": null,
            "height": null,
            "justify_content": null,
            "justify_items": null,
            "left": null,
            "margin": null,
            "max_height": null,
            "max_width": null,
            "min_height": null,
            "min_width": null,
            "object_fit": null,
            "object_position": null,
            "order": null,
            "overflow": null,
            "overflow_x": null,
            "overflow_y": null,
            "padding": null,
            "right": null,
            "top": null,
            "visibility": null,
            "width": null
          }
        },
        "c54f01f1fbb347fbb57e0a1a0894225f": {
          "model_module": "@jupyter-widgets/controls",
          "model_name": "ProgressStyleModel",
          "model_module_version": "1.5.0",
          "state": {
            "_model_module": "@jupyter-widgets/controls",
            "_model_module_version": "1.5.0",
            "_model_name": "ProgressStyleModel",
            "_view_count": null,
            "_view_module": "@jupyter-widgets/base",
            "_view_module_version": "1.2.0",
            "_view_name": "StyleView",
            "bar_color": null,
            "description_width": ""
          }
        },
        "358ae8010b154918a70828f7d908d40b": {
          "model_module": "@jupyter-widgets/base",
          "model_name": "LayoutModel",
          "model_module_version": "1.2.0",
          "state": {
            "_model_module": "@jupyter-widgets/base",
            "_model_module_version": "1.2.0",
            "_model_name": "LayoutModel",
            "_view_count": null,
            "_view_module": "@jupyter-widgets/base",
            "_view_module_version": "1.2.0",
            "_view_name": "LayoutView",
            "align_content": null,
            "align_items": null,
            "align_self": null,
            "border": null,
            "bottom": null,
            "display": null,
            "flex": null,
            "flex_flow": null,
            "grid_area": null,
            "grid_auto_columns": null,
            "grid_auto_flow": null,
            "grid_auto_rows": null,
            "grid_column": null,
            "grid_gap": null,
            "grid_row": null,
            "grid_template_areas": null,
            "grid_template_columns": null,
            "grid_template_rows": null,
            "height": null,
            "justify_content": null,
            "justify_items": null,
            "left": null,
            "margin": null,
            "max_height": null,
            "max_width": null,
            "min_height": null,
            "min_width": null,
            "object_fit": null,
            "object_position": null,
            "order": null,
            "overflow": null,
            "overflow_x": null,
            "overflow_y": null,
            "padding": null,
            "right": null,
            "top": null,
            "visibility": null,
            "width": null
          }
        },
        "5dc4cdc06c9747e6a7cf3f39574aceef": {
          "model_module": "@jupyter-widgets/controls",
          "model_name": "DescriptionStyleModel",
          "model_module_version": "1.5.0",
          "state": {
            "_model_module": "@jupyter-widgets/controls",
            "_model_module_version": "1.5.0",
            "_model_name": "DescriptionStyleModel",
            "_view_count": null,
            "_view_module": "@jupyter-widgets/base",
            "_view_module_version": "1.2.0",
            "_view_name": "StyleView",
            "description_width": ""
          }
        }
      }
    }
  },
  "nbformat": 4,
  "nbformat_minor": 0
}