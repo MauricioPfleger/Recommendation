{
  "cells": [
    {
      "cell_type": "markdown",
      "metadata": {
        "id": "3--hwdQ_1x7m"
      },
      "source": [
        "# 1 - Install"
      ]
    },
    {
      "cell_type": "code",
      "execution_count": null,
      "metadata": {
        "id": "_V1GQS6CKFpC"
      },
      "outputs": [],
      "source": [
        "!pip install merlin-models\n",
        "!pip install nvtabular\n",
        "!pip install implicit\n",
        "!pip install cython"
      ]
    },
    {
      "cell_type": "markdown",
      "metadata": {
        "id": "9XC_CsgT11cO"
      },
      "source": [
        "# 2 - Imports"
      ]
    },
    {
      "cell_type": "code",
      "execution_count": null,
      "metadata": {
        "id": "F9TIoLTwKFpG"
      },
      "outputs": [],
      "source": [
        "import warnings\n",
        "warnings.simplefilter(action='ignore', category=FutureWarning)\n",
        "\n",
        "from google.colab import drive\n",
        "import os\n",
        "import shutil\n",
        "import numpy as np\n",
        "from numpy.ma import count\n",
        "import cython\n",
        "from scipy.sparse import coo_matrix, csr_matrix\n",
        "from tqdm.auto import tqdm\n",
        "\n",
        "import nvtabular as nvt\n",
        "from nvtabular.ops import AddMetadata\n",
        "\n",
        "from merlin.core.dispatch import get_lib\n",
        "from merlin.schema.tags import Tags\n",
        "from merlin.io.dataset import Dataset\n",
        "from merlin.models.utils.dataset import dataset_to_coo\n",
        "from merlin.models.implicit import AlternatingLeastSquares"
      ]
    },
    {
      "cell_type": "markdown",
      "metadata": {
        "id": "Bs2mEQsz13ys"
      },
      "source": [
        "# 3 - Método com recall"
      ]
    },
    {
      "cell_type": "code",
      "execution_count": 23,
      "metadata": {
        "id": "6cIVHsNacjxM"
      },
      "outputs": [],
      "source": [
        "from numpy import double\n",
        "\n",
        "\n",
        "class AlternatingLeastSquaresWithRecall(AlternatingLeastSquares):\n",
        "  def ranking_metrics_at_k_recall(model, train_user_items, test_user_items, K=10,\n",
        "                        show_progress=True, num_threads=1):\n",
        "    \"\"\" Calculates ranking metrics for a given trained model\n",
        "    Parameters\n",
        "    ----------\n",
        "    model : RecommenderBase\n",
        "        The fitted recommendation model to test\n",
        "    train_user_items : csr_matrix\n",
        "        Sparse matrix of user by item that contains elements that were used\n",
        "            in training the model\n",
        "    test_user_items : csr_matrix\n",
        "        Sparse matrix of user by item that contains withheld elements to\n",
        "        test on\n",
        "    K : int\n",
        "        Number of items to test on\n",
        "    show_progress : bool, optional\n",
        "        Whether to show a progress bar\n",
        "    num_threads : int, optional\n",
        "        The number of threads to use for testing. Specifying 0 means to default\n",
        "        to the number of cores on the machine. Note: aside from the ALS and BPR\n",
        "        models, setting this to more than 1 will likely hurt performance rather than\n",
        "        help.\n",
        "    Returns\n",
        "    -------\n",
        "    float\n",
        "        the calculated p@k\n",
        "    \"\"\"\n",
        "    if not isinstance(train_user_items, csr_matrix):\n",
        "      train_user_items = train_user_items.tocsr()\n",
        "\n",
        "    if not isinstance(test_user_items, csr_matrix):\n",
        "      test_user_items = test_user_items.tocsr()\n",
        "\n",
        "    users = test_user_items.shape[0] \n",
        "    items = test_user_items.shape[1]\n",
        "    u = 0\n",
        "    i = 0\n",
        "    batch_idx = 0\n",
        "    # precision\n",
        "    relevant = 0.0\n",
        "    pr_div = 0.0\n",
        "    total = 0.0 \n",
        "    total_recall = 0.0\n",
        "    # map\n",
        "    mean_ap = 0.0\n",
        "    ap = 0.0\n",
        "    # ndcg\n",
        "    cg = (1.0 / np.log2(np.arange(2, K + 2)))\n",
        "    cg_sum = np.cumsum(cg)\n",
        "    ndcg = 0.0 \n",
        "    idcg = 0\n",
        "    # auc\n",
        "    mean_auc = 0.0\n",
        "    auc = 0.0\n",
        "    hit = 0.0\n",
        "    miss = 0.0\n",
        "    num_pos_items = 0.0\n",
        "    num_neg_items = 0.0\n",
        "\n",
        "    test_indptr = test_user_items.indptr\n",
        "    test_indices = test_user_items.indices\n",
        "\n",
        "    ids = [[],[]]\n",
        "    batch = []\n",
        "\n",
        "    likes = []\n",
        "\n",
        "    batch_size = 1000\n",
        "    start_idx = 0\n",
        "\n",
        "    # get an array of userids that have at least one item in the test set\n",
        "    to_generate = np.arange(users, dtype=\"int32\")\n",
        "    to_generate = to_generate[np.ediff1d(test_user_items.indptr) > 0]\n",
        "\n",
        "    progress = tqdm(total=len(to_generate), disable=not show_progress)\n",
        "    total_recall = total\n",
        "\n",
        "    while start_idx < len(to_generate):\n",
        "      batch = to_generate[start_idx: start_idx + batch_size]\n",
        "      ids, _ = model.recommend(batch, train_user_items[batch], N=K)\n",
        "      start_idx += batch_size\n",
        "\n",
        "      #with nogil:\n",
        "      for batch_idx in range(len(batch)):\n",
        "        u = batch[batch_idx]\n",
        "        likes.clear()\n",
        "        for i in range(test_indptr[u], test_indptr[u+1]):\n",
        "          likes.append(test_indices[i])\n",
        "\n",
        "        pr_div += min(K, count(likes))\n",
        "        ap = 0\n",
        "        hit = 0\n",
        "        miss = 0\n",
        "        auc = 0\n",
        "        idcg = cg_sum[min(K, count(likes)) - 1]\n",
        "        num_pos_items = count(likes)\n",
        "        num_neg_items = items - num_pos_items\n",
        "        \n",
        "        for i in range(K):\n",
        "          if ((ids[batch_idx, i] in likes) and (likes.index(ids[batch_idx, i]) != count(likes))): #likes.end()\n",
        "            relevant += 1\n",
        "            hit += 1\n",
        "            ap += hit / (i + 1)\n",
        "            ndcg += cg[i] / idcg\n",
        "          else:\n",
        "            miss += 1\n",
        "            auc += hit\n",
        "        auc += ((hit + num_pos_items) / 2.0) * (num_neg_items - miss)\n",
        "        mean_ap += ap / min(K, count(likes))\n",
        "        mean_auc += auc / (num_pos_items * num_neg_items)\n",
        "        total += 1\n",
        "        total_recall += count(likes)\n",
        "\n",
        "      progress.update(len(batch))\n",
        "\n",
        "    progress.close()\n",
        "    # print(\"precision\", relevant / pr_div,\n",
        "    #       \"map\", mean_ap / total,\n",
        "    #       \"ndcg\", ndcg / total,\n",
        "    #       \"auc\", mean_auc / total,\n",
        "    #       \"recall\", mean_auc / total_recall    \n",
        "    #)\n",
        "    return {\n",
        "      \"precision\": relevant / pr_div,\n",
        "      \"map\": mean_ap / total,\n",
        "      \"ndcg\": ndcg / total,\n",
        "      \"auc\": mean_auc / total,\n",
        "      \"recall\": mean_auc / total_recall\n",
        "    }\n",
        "\n",
        "  def evaluate_recall(self, test_dataset: Dataset, k=10):\n",
        "        \"\"\"Evaluates the model\n",
        "\n",
        "        This function evaluates using a variety of ranking metrics, and returns\n",
        "        a dictionary of {metric_name: value}.\n",
        "\n",
        "        Parameters\n",
        "        ----------\n",
        "        test_dataset : merlin.io.Dataset\n",
        "            The validation dataset to evaluate\n",
        "        k : int\n",
        "            How many items to return per prediction. By default this method will\n",
        "            return metrics like 'map@10' , but by increasing k you can generate\n",
        "            different versions\n",
        "        \"\"\"\n",
        "        test = dataset_to_coo(test_dataset).tocsr()\n",
        "        ret = AlternatingLeastSquaresWithRecall.ranking_metrics_at_k_recall(\n",
        "            self.implicit_model,\n",
        "            self.train_data,\n",
        "            test,\n",
        "            K=k,\n",
        "        )\n",
        "        return {metric + f\"@{k}\": value for metric, value in ret.items()} "
      ]
    },
    {
      "cell_type": "markdown",
      "metadata": {
        "id": "XqCv3FOC1-Gr"
      },
      "source": [
        "# 4 - Diretórios"
      ]
    },
    {
      "cell_type": "markdown",
      "metadata": {
        "id": "wzYu4JEU2BmW"
      },
      "source": [
        "## 4.1 - Remover diretórios"
      ]
    },
    {
      "cell_type": "code",
      "execution_count": 4,
      "metadata": {
        "id": "zh2TbMZ5dUK-"
      },
      "outputs": [],
      "source": [
        "if os.path.exists('train.parquet'):\n",
        "  os.remove('train.parquet')\n",
        "if os.path.exists('test.parquet'):\n",
        "  os.remove('test.parquet')\n",
        "shutil.rmtree('train', ignore_errors=True)\n",
        "shutil.rmtree('test', ignore_errors=True)"
      ]
    },
    {
      "cell_type": "markdown",
      "metadata": {
        "id": "JRl94sWF2FAC"
      },
      "source": [
        "## 4.2 - Google Drive\n"
      ]
    },
    {
      "cell_type": "code",
      "execution_count": null,
      "metadata": {
        "id": "8VJt8421KSTd"
      },
      "outputs": [],
      "source": [
        "drive.mount(r'/content/drive/')\n",
        "!ls \"/content/drive/MyDrive/Dataset\""
      ]
    },
    {
      "cell_type": "markdown",
      "metadata": {
        "id": "dSUPqx0i2Sm4"
      },
      "source": [
        "# 5 - Preliminaries\n",
        "\n"
      ]
    },
    {
      "cell_type": "code",
      "execution_count": 6,
      "metadata": {
        "id": "dfXGneUk08ah"
      },
      "outputs": [],
      "source": [
        "COL_USER = \"user_id\"\n",
        "COL_ITEM = \"item_id\"\n",
        "COL_RATING = \"rating\"\n",
        "COL_TIMESTAMP = \"timestamp\"\n",
        "COL_PREDICTION = \"prediction\"\n",
        "TOP_K = 10\n",
        "INPUT_DATA_DIR = '/content/drive/MyDrive/Dataset/'\n",
        "df_lib = get_lib()"
      ]
    },
    {
      "cell_type": "markdown",
      "metadata": {
        "id": "OneMRxBB2YzQ"
      },
      "source": [
        "# 6 - Dataset"
      ]
    },
    {
      "cell_type": "code",
      "execution_count": 7,
      "metadata": {
        "id": "oPKiH7JiKFpI"
      },
      "outputs": [],
      "source": [
        "columns = [COL_USER, COL_ITEM, COL_RATING]\n",
        "train = df_lib.read_csv(os.path.join(INPUT_DATA_DIR, \"SMDI-500E_train.csv\"), names=columns)\n",
        "test = df_lib.read_csv(os.path.join(INPUT_DATA_DIR, \"SMDI-500E_test.csv\"), names=columns)"
      ]
    },
    {
      "cell_type": "code",
      "execution_count": 8,
      "metadata": {
        "id": "mBLn2FhqKFpL"
      },
      "outputs": [],
      "source": [
        "train.to_parquet(\"train.parquet\")\n",
        "test.to_parquet(\"test.parquet\")"
      ]
    },
    {
      "cell_type": "code",
      "execution_count": null,
      "metadata": {
        "id": "qIQERZtAKFpM"
      },
      "outputs": [],
      "source": [
        "train_dataset = Dataset(\"train.parquet\", cpu=True)\n",
        "test_dataset = Dataset(\"test.parquet\", cpu=True)"
      ]
    },
    {
      "cell_type": "code",
      "execution_count": 10,
      "metadata": {
        "id": "QdxYDdwG_71D"
      },
      "outputs": [],
      "source": [
        "user_id = [\"user_id\"] >> AddMetadata(tags=[Tags.USER_ID, \"user_id\"]) \n",
        "item_id = [\"item_id\"] >> AddMetadata(tags=[Tags.ITEM_ID, \"item_id\"])\n",
        "rating = [\"rating\"] >> AddMetadata(tags=[Tags.TARGET])"
      ]
    },
    {
      "cell_type": "code",
      "execution_count": null,
      "metadata": {
        "id": "affRhIZEE2Pa"
      },
      "outputs": [],
      "source": [
        "workflow = nvt.Workflow(user_id + item_id + rating)\n",
        "workflow.fit(train_dataset)\n",
        "workflow.transform(train_dataset).to_parquet(\"train\")\n",
        "workflow.transform(test_dataset).to_parquet(\"test\")"
      ]
    },
    {
      "cell_type": "code",
      "execution_count": null,
      "metadata": {
        "id": "ZqkpgUmdKFpR"
      },
      "outputs": [],
      "source": [
        "train_transformed = Dataset(\"train/*.parquet\", cpu=True)\n",
        "test_transformed = Dataset(\"test/*.parquet\", cpu=True)"
      ]
    },
    {
      "cell_type": "markdown",
      "metadata": {
        "id": "XCobstrDNFJg"
      },
      "source": [
        "# 7 - Treinando"
      ]
    },
    {
      "cell_type": "code",
      "execution_count": null,
      "metadata": {
        "id": "OaPGZ1BZvFnZ"
      },
      "outputs": [],
      "source": [
        "als = AlternatingLeastSquaresWithRecall(\n",
        "    regularization=0.01, \n",
        "    iterations=500, \n",
        "    factors=1,\n",
        "    use_gpu=False\n",
        "  )\n",
        "als.fit(train_transformed)"
      ]
    },
    {
      "cell_type": "markdown",
      "metadata": {
        "id": "w2pDdSmWZhUN"
      },
      "source": [
        "# 8 - Avaliando"
      ]
    },
    {
      "cell_type": "code",
      "execution_count": null,
      "metadata": {
        "id": "6VdbLOLHJ8md"
      },
      "outputs": [],
      "source": [
        "implicit_metrics = als.evaluate_recall(test_transformed)\n",
        "implicit_preds = als.predict(test_transformed)"
      ]
    },
    {
      "attachments": {},
      "cell_type": "markdown",
      "metadata": {
        "id": "UAyJraLEZdpp"
      },
      "source": [
        "## 8.1 - Teste usuário 17"
      ]
    },
    {
      "cell_type": "code",
      "execution_count": null,
      "metadata": {
        "id": "qHk6hfGaNOFa"
      },
      "outputs": [],
      "source": [
        "filter = [(\"user_id\", \"in\", [17])]\n",
        "user_predicted = als.predict(Dataset(\"test/*.parquet\", cpu=True, filters=filter))"
      ]
    },
    {
      "cell_type": "code",
      "execution_count": null,
      "metadata": {
        "id": "rRCzZ-ioGImu"
      },
      "outputs": [],
      "source": [
        "user_predicted[0]"
      ]
    },
    {
      "cell_type": "code",
      "execution_count": null,
      "metadata": {
        "id": "mlUWyCqOFJH4"
      },
      "outputs": [],
      "source": [
        "user_predicted[1]"
      ]
    },
    {
      "cell_type": "code",
      "execution_count": 56,
      "metadata": {
        "colab": {
          "base_uri": "https://localhost:8080/",
          "height": 363
        },
        "id": "3YQabEtNNf2o",
        "outputId": "a27dc6a9-9e86-4a24-97df-50a9c44ea4cb"
      },
      "outputs": [
        {
          "data": {
            "text/html": [
              "\n",
              "  <div id=\"df-9654f878-4edf-4117-8b21-c9e2aa56b007\">\n",
              "    <div class=\"colab-df-container\">\n",
              "      <div>\n",
              "<style scoped>\n",
              "    .dataframe tbody tr th:only-of-type {\n",
              "        vertical-align: middle;\n",
              "    }\n",
              "\n",
              "    .dataframe tbody tr th {\n",
              "        vertical-align: top;\n",
              "    }\n",
              "\n",
              "    .dataframe thead th {\n",
              "        text-align: right;\n",
              "    }\n",
              "</style>\n",
              "<table border=\"1\" class=\"dataframe\">\n",
              "  <thead>\n",
              "    <tr style=\"text-align: right;\">\n",
              "      <th></th>\n",
              "      <th>user_id</th>\n",
              "      <th>item_id</th>\n",
              "      <th>rating</th>\n",
              "    </tr>\n",
              "  </thead>\n",
              "  <tbody>\n",
              "    <tr>\n",
              "      <th>0</th>\n",
              "      <td>17</td>\n",
              "      <td>132</td>\n",
              "      <td>0.950725</td>\n",
              "    </tr>\n",
              "    <tr>\n",
              "      <th>1</th>\n",
              "      <td>17</td>\n",
              "      <td>64</td>\n",
              "      <td>0.745661</td>\n",
              "    </tr>\n",
              "    <tr>\n",
              "      <th>2</th>\n",
              "      <td>17</td>\n",
              "      <td>55</td>\n",
              "      <td>0.719344</td>\n",
              "    </tr>\n",
              "    <tr>\n",
              "      <th>3</th>\n",
              "      <td>17</td>\n",
              "      <td>53</td>\n",
              "      <td>0.654296</td>\n",
              "    </tr>\n",
              "    <tr>\n",
              "      <th>4</th>\n",
              "      <td>17</td>\n",
              "      <td>65</td>\n",
              "      <td>0.606072</td>\n",
              "    </tr>\n",
              "    <tr>\n",
              "      <th>5</th>\n",
              "      <td>17</td>\n",
              "      <td>123</td>\n",
              "      <td>0.586571</td>\n",
              "    </tr>\n",
              "    <tr>\n",
              "      <th>6</th>\n",
              "      <td>17</td>\n",
              "      <td>2324</td>\n",
              "      <td>0.568952</td>\n",
              "    </tr>\n",
              "    <tr>\n",
              "      <th>7</th>\n",
              "      <td>17</td>\n",
              "      <td>808</td>\n",
              "      <td>0.564506</td>\n",
              "    </tr>\n",
              "    <tr>\n",
              "      <th>8</th>\n",
              "      <td>17</td>\n",
              "      <td>2987</td>\n",
              "      <td>0.460434</td>\n",
              "    </tr>\n",
              "    <tr>\n",
              "      <th>9</th>\n",
              "      <td>17</td>\n",
              "      <td>24</td>\n",
              "      <td>0.428644</td>\n",
              "    </tr>\n",
              "  </tbody>\n",
              "</table>\n",
              "</div>\n",
              "      <button class=\"colab-df-convert\" onclick=\"convertToInteractive('df-9654f878-4edf-4117-8b21-c9e2aa56b007')\"\n",
              "              title=\"Convert this dataframe to an interactive table.\"\n",
              "              style=\"display:none;\">\n",
              "        \n",
              "  <svg xmlns=\"http://www.w3.org/2000/svg\" height=\"24px\"viewBox=\"0 0 24 24\"\n",
              "       width=\"24px\">\n",
              "    <path d=\"M0 0h24v24H0V0z\" fill=\"none\"/>\n",
              "    <path d=\"M18.56 5.44l.94 2.06.94-2.06 2.06-.94-2.06-.94-.94-2.06-.94 2.06-2.06.94zm-11 1L8.5 8.5l.94-2.06 2.06-.94-2.06-.94L8.5 2.5l-.94 2.06-2.06.94zm10 10l.94 2.06.94-2.06 2.06-.94-2.06-.94-.94-2.06-.94 2.06-2.06.94z\"/><path d=\"M17.41 7.96l-1.37-1.37c-.4-.4-.92-.59-1.43-.59-.52 0-1.04.2-1.43.59L10.3 9.45l-7.72 7.72c-.78.78-.78 2.05 0 2.83L4 21.41c.39.39.9.59 1.41.59.51 0 1.02-.2 1.41-.59l7.78-7.78 2.81-2.81c.8-.78.8-2.07 0-2.86zM5.41 20L4 18.59l7.72-7.72 1.47 1.35L5.41 20z\"/>\n",
              "  </svg>\n",
              "      </button>\n",
              "      \n",
              "  <style>\n",
              "    .colab-df-container {\n",
              "      display:flex;\n",
              "      flex-wrap:wrap;\n",
              "      gap: 12px;\n",
              "    }\n",
              "\n",
              "    .colab-df-convert {\n",
              "      background-color: #E8F0FE;\n",
              "      border: none;\n",
              "      border-radius: 50%;\n",
              "      cursor: pointer;\n",
              "      display: none;\n",
              "      fill: #1967D2;\n",
              "      height: 32px;\n",
              "      padding: 0 0 0 0;\n",
              "      width: 32px;\n",
              "    }\n",
              "\n",
              "    .colab-df-convert:hover {\n",
              "      background-color: #E2EBFA;\n",
              "      box-shadow: 0px 1px 2px rgba(60, 64, 67, 0.3), 0px 1px 3px 1px rgba(60, 64, 67, 0.15);\n",
              "      fill: #174EA6;\n",
              "    }\n",
              "\n",
              "    [theme=dark] .colab-df-convert {\n",
              "      background-color: #3B4455;\n",
              "      fill: #D2E3FC;\n",
              "    }\n",
              "\n",
              "    [theme=dark] .colab-df-convert:hover {\n",
              "      background-color: #434B5C;\n",
              "      box-shadow: 0px 1px 3px 1px rgba(0, 0, 0, 0.15);\n",
              "      filter: drop-shadow(0px 1px 2px rgba(0, 0, 0, 0.3));\n",
              "      fill: #FFFFFF;\n",
              "    }\n",
              "  </style>\n",
              "\n",
              "      <script>\n",
              "        const buttonEl =\n",
              "          document.querySelector('#df-9654f878-4edf-4117-8b21-c9e2aa56b007 button.colab-df-convert');\n",
              "        buttonEl.style.display =\n",
              "          google.colab.kernel.accessAllowed ? 'block' : 'none';\n",
              "\n",
              "        async function convertToInteractive(key) {\n",
              "          const element = document.querySelector('#df-9654f878-4edf-4117-8b21-c9e2aa56b007');\n",
              "          const dataTable =\n",
              "            await google.colab.kernel.invokeFunction('convertToInteractive',\n",
              "                                                     [key], {});\n",
              "          if (!dataTable) return;\n",
              "\n",
              "          const docLinkHtml = 'Like what you see? Visit the ' +\n",
              "            '<a target=\"_blank\" href=https://colab.research.google.com/notebooks/data_table.ipynb>data table notebook</a>'\n",
              "            + ' to learn more about interactive tables.';\n",
              "          element.innerHTML = '';\n",
              "          dataTable['output_type'] = 'display_data';\n",
              "          await google.colab.output.renderOutput(dataTable, element);\n",
              "          const docLink = document.createElement('div');\n",
              "          docLink.innerHTML = docLinkHtml;\n",
              "          element.appendChild(docLink);\n",
              "        }\n",
              "      </script>\n",
              "    </div>\n",
              "  </div>\n",
              "  "
            ],
            "text/plain": [
              "   user_id  item_id    rating\n",
              "0       17      132  0.950725\n",
              "1       17       64  0.745661\n",
              "2       17       55  0.719344\n",
              "3       17       53  0.654296\n",
              "4       17       65  0.606072\n",
              "5       17      123  0.586571\n",
              "6       17     2324  0.568952\n",
              "7       17      808  0.564506\n",
              "8       17     2987  0.460434\n",
              "9       17       24  0.428644"
            ]
          },
          "execution_count": 56,
          "metadata": {},
          "output_type": "execute_result"
        }
      ],
      "source": [
        "import pandas as pd\n",
        "pd.DataFrame({'user_id': 17, 'item_id': user_predicted[0][0], 'rating' : user_predicted[1][0]})"
      ]
    }
  ],
  "metadata": {
    "colab": {
      "provenance": []
    },
    "gpuClass": "standard",
    "kernelspec": {
      "display_name": "Python 3.8.10 64-bit",
      "language": "python",
      "name": "python3"
    },
    "language_info": {
      "codemirror_mode": {
        "name": "ipython",
        "version": 3
      },
      "file_extension": ".py",
      "mimetype": "text/x-python",
      "name": "python",
      "nbconvert_exporter": "python",
      "pygments_lexer": "ipython3",
      "version": "3.8.10"
    },
    "vscode": {
      "interpreter": {
        "hash": "916dbcbb3f70747c44a77c7bcd40155683ae19c65e1c03b4aa3499c5328201f1"
      }
    }
  },
  "nbformat": 4,
  "nbformat_minor": 0
}
